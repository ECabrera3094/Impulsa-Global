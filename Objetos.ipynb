{
 "cells": [
  {
   "cell_type": "markdown",
   "metadata": {},
   "source": [
    "# ¿Qué es un Objeto?"
   ]
  },
  {
   "cell_type": "markdown",
   "metadata": {},
   "source": [
    "Seguramente hasta este punto nunca se ha comentado pero en un Lenguaje Orientado a Objetos como lo es Python, **TODO** y **ABSOLUTAMENTE TODO** en Python es un Objeto, desde los Números hasta las Funciones y demás cosas vistas a lo largo de estos cursos. Sin embargo, Python \"oculta\" de algún modo la mayor parte de la maquinaria de objetos mediante una sintaxis especial."
   ]
  },
  {
   "cell_type": "markdown",
   "metadata": {},
   "source": [
    "Tomemos como base el sieguiente ejemplo:"
   ]
  },
  {
   "cell_type": "code",
   "execution_count": 3,
   "metadata": {},
   "outputs": [],
   "source": [
    "var = 30"
   ]
  },
  {
   "cell_type": "markdown",
   "metadata": {},
   "source": [
    "En algo tan simple como esto se está creando un Objeto de tipo *entero* con el valor 7 que esta siendo referenciado en memoria a la variable llamada *var*. El único momento en donde se necesita ver adentro del Objeto es cuando se quiere hacer uno propio o modificar el *comportamiento* del objeto existente."
   ]
  },
  {
   "cell_type": "markdown",
   "metadata": {},
   "source": [
    "Oficialmente un Objeto es una \"Estructura de Datos personalizada que contiene Datos (Variables llamadas **Atributos**) y código (Funciones llamadas **Métodos**)\". En otras palabras, un Objeto representa una cosa individual y los Métodos definen el cómo interactua con otras cosas. "
   ]
  },
  {
   "cell_type": "markdown",
   "metadata": {},
   "source": [
    "Por ejemplo, el Objeto entero con el valor de 30 es un Objeto que facilita Métodos ya antes vistos tales como la suma o la multiplicación. Un 25 es un Objeto completamente diferente. Esto siginifica que hay una **Clase** para valores enteros incorporada en algún lugar de Python, al que pertenece tanto 30 como 25. Las Cadenas de Texto como 'Perro' o 'Gato' son también Objetos de Python y tienen Métodos para Cadenas de Texto tales como *capitalize()* y *replace()*. Y a diferencia de los Módulos, se pueden tener mútiples Objetos (a menudo denominados **Instancias**) al mismo tiempo, cada uno con Atributos potencialmente diferentes."
   ]
  }
 ],
 "metadata": {
  "kernelspec": {
   "display_name": "Python 3",
   "language": "python",
   "name": "python3"
  },
  "language_info": {
   "codemirror_mode": {
    "name": "ipython",
    "version": 3
   },
   "file_extension": ".py",
   "mimetype": "text/x-python",
   "name": "python",
   "nbconvert_exporter": "python",
   "pygments_lexer": "ipython3",
   "version": "3.8.3"
  }
 },
 "nbformat": 4,
 "nbformat_minor": 4
}
