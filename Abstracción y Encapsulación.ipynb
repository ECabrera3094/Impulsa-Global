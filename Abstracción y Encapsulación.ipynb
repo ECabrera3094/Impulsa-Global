{
 "cells": [
  {
   "cell_type": "markdown",
   "metadata": {},
   "source": [
    "# Abstracción"
   ]
  },
  {
   "cell_type": "markdown",
   "metadata": {},
   "source": [
    "Dos de los Pilares de la Programación Orientada a Objetos van de la mano apoyándose uno sobre el otro y estos son la **Abstracción** y la **Encapsulación**.  "
   ]
  },
  {
   "cell_type": "markdown",
   "metadata": {},
   "source": [
    "La **Abstracción** en Python es el proceso por el cual se *'oculta'* la *complejidad/implementación* de una Clasey solo se piensa en mostrar las *características esenciales* del Objeto reduciendo la complejidad e incrementando la eficiencia. Véase como cuando un usuario compra una computadora, si bien sabe usarla una vez afuera de la caja, no necesariamente significa que conozca el funcionamiento completo de la Tarjeta Madre como un elemento único. "
   ]
  },
  {
   "cell_type": "markdown",
   "metadata": {},
   "source": [
    "Se produce la **Abstracción** tanto en la Clase (*Clase Abstracta*) como en los Métodos (*Métodos Abstractos*) de la misma. Estos últimos son Métodos declarados que muchas veces se piensa que no contienen implementación alguna dentro de la Clase pero la verdad es que **SI**, esto lo abordaremos más adelante, primero se tratará de ejemplificar la **Abstracción**."
   ]
  },
  {
   "cell_type": "markdown",
   "metadata": {},
   "source": [
    "Antes que nada, para generar la **Abstracción** se debe importar **ABC** y **abstractmethod** proveniente del Módulo *abc*, conocido como **Abstract Base Clases** (*ABC*) en inglés."
   ]
  },
  {
   "cell_type": "code",
   "execution_count": 38,
   "metadata": {},
   "outputs": [],
   "source": [
    "from abc import ABC, abstractmethod"
   ]
  },
  {
   "cell_type": "markdown",
   "metadata": {},
   "source": [
    "Con base en esto se crea una Clase Base que recibe a **ABC** y se procede a la generación de los Métodos de la misma. Para su ejemplificación, se simulará un Banco hipotético con pequeñas acciones:"
   ]
  },
  {
   "cell_type": "code",
   "execution_count": 45,
   "metadata": {},
   "outputs": [],
   "source": [
    "from abc import ABC, abstractmethod\n",
    "\n",
    "class Bank(ABC):\n",
    "    \n",
    "    IVA = 0.16\n",
    "        \n",
    "    @abstractmethod\n",
    "    def taxes(self):\n",
    "        print(\"¡Soy un Método Abstracto y quiero todo tu dinero!\")"
   ]
  },
  {
   "cell_type": "markdown",
   "metadata": {},
   "source": [
    "Los **Métodos Abstractos** se ven señalados con el Decorador **@abstractmethod** únicamente en la Clase Abstracta, ya que a su vez, es forzoso ser declarado un Método exáctamente igual en la SubClase que reciba a *'Bank'* sino se presentará un Error. Por lo mismo puede existir una cantidad indefinida de **Métodos Abstractos** siempre y cuendo se respete la regla anterior así como Métodos normales que ya se han visto anteriormente.\n",
    "\n",
    "Un dato muy importante de las Clases Abstractas es que no pueden ser instanciadas por ningún Objecto y requieren SubClases para proporcionar funcionamiento alguno, de allí su importancia por *'ocultar'* la implementación que reside en la misma Clase Abstracta."
   ]
  },
  {
   "cell_type": "code",
   "execution_count": 49,
   "metadata": {
    "scrolled": true
   },
   "outputs": [
    {
     "ename": "TypeError",
     "evalue": "Can't instantiate abstract class Bank with abstract methods taxes",
     "output_type": "error",
     "traceback": [
      "\u001b[0;31m---------------------------------------------------------------------------\u001b[0m",
      "\u001b[0;31mTypeError\u001b[0m                                 Traceback (most recent call last)",
      "\u001b[0;32m<ipython-input-49-fdf452f4d8d4>\u001b[0m in \u001b[0;36m<module>\u001b[0;34m\u001b[0m\n\u001b[1;32m      9\u001b[0m         \u001b[0mprint\u001b[0m\u001b[0;34m(\u001b[0m\u001b[0;34m\"¡Soy un Método Abstracto y quiero todo tu dinero!\"\u001b[0m\u001b[0;34m)\u001b[0m\u001b[0;34m\u001b[0m\u001b[0;34m\u001b[0m\u001b[0m\n\u001b[1;32m     10\u001b[0m \u001b[0;34m\u001b[0m\u001b[0m\n\u001b[0;32m---> 11\u001b[0;31m \u001b[0mb\u001b[0m \u001b[0;34m=\u001b[0m \u001b[0mBank\u001b[0m\u001b[0;34m(\u001b[0m\u001b[0;34m)\u001b[0m\u001b[0;34m\u001b[0m\u001b[0;34m\u001b[0m\u001b[0m\n\u001b[0m",
      "\u001b[0;31mTypeError\u001b[0m: Can't instantiate abstract class Bank with abstract methods taxes"
     ]
    }
   ],
   "source": [
    "from abc import ABC, abstractmethod\n",
    "\n",
    "class Bank(ABC):\n",
    "    \n",
    "    IVA = 0.16\n",
    "\n",
    "    @abstractmethod\n",
    "    def taxes(self):\n",
    "        print(\"¡Soy un Método Abstracto y quiero todo tu dinero!\")\n",
    "        \n",
    "b = Bank()"
   ]
  },
  {
   "cell_type": "markdown",
   "metadata": {},
   "source": [
    "Ya con la Clase *'Bank'*, crearemos otra Clase que simule un Cajero Automático ATM, que de igual forma, contará con pequeñas acciones y que recibe los Métodos de *'Bank'*:"
   ]
  },
  {
   "cell_type": "code",
   "execution_count": 63,
   "metadata": {},
   "outputs": [
    {
     "name": "stdout",
     "output_type": "stream",
     "text": [
      "Impuesto: $ 24.0\n"
     ]
    }
   ],
   "source": [
    "from abc import ABC, abstractmethod\n",
    "\n",
    "class Bank(ABC):\n",
    "    \n",
    "    IVA = 0.16\n",
    "        \n",
    "    @abstractmethod\n",
    "    def taxes(self):\n",
    "        print(\"¡Soy un Método Abstracto y quiero todo tu dinero!\")\n",
    "\n",
    "class ATM(Bank):\n",
    "    \n",
    "    def __init__(self, money):\n",
    "        self.money = money\n",
    "            \n",
    "    def taxes(self):\n",
    "        return ATM.IVA * self.money\n",
    "        \n",
    "\n",
    "atm = ATM(150)\n",
    "print(\"Impuesto: $\", atm.taxes())"
   ]
  },
  {
   "cell_type": "markdown",
   "metadata": {},
   "source": [
    "Como se podrá notar, el Método *'taxes()'* aparece tanto en la Clase Abstracta *'Bank'* señalado con su Decorador **@abstractmethod** como en la SubClase *'ATM'*. Cuando creamos el Objeto que Instancia la Clase *'ATM'* simulamos el ingreso de $150 y llamamos al Método *'taxes()'* para calcular el impuesto del Banco al momento de realizar una transacción, obteniendo el IVA de la Clase *'Bank'*."
   ]
  },
  {
   "cell_type": "markdown",
   "metadata": {},
   "source": [
    "Para conocer el mensaje del Método Abstracto, simplemente se llama a éste con la sentencia *'super().taxes()'* donde **super()** hace referencia a *'Bank'* y **taxes()** al Método Abstracto: "
   ]
  },
  {
   "cell_type": "code",
   "execution_count": 66,
   "metadata": {},
   "outputs": [
    {
     "name": "stdout",
     "output_type": "stream",
     "text": [
      "¡Soy un Método Abstracto y quiero todo tu dinero!\n",
      "Impuesto: $ 24.0\n"
     ]
    }
   ],
   "source": [
    "from abc import ABC, abstractmethod\n",
    "\n",
    "class Bank(ABC):\n",
    "    \n",
    "    IVA = 0.16\n",
    "        \n",
    "    @abstractmethod\n",
    "    def taxes(self):\n",
    "        print(\"¡Soy un Método Abstracto y quiero todo tu dinero!\")\n",
    "\n",
    "class ATM(Bank):\n",
    "    \n",
    "    def __init__(self, money):\n",
    "        self.money = money\n",
    "            \n",
    "    def taxes(self):\n",
    "        super().taxes()\n",
    "        return ATM.IVA * self.money\n",
    "\n",
    "atm = ATM(150)\n",
    "print(\"Impuesto: $\", atm.taxes())"
   ]
  },
  {
   "cell_type": "markdown",
   "metadata": {},
   "source": [
    "# Encapsulación"
   ]
  },
  {
   "cell_type": "markdown",
   "metadata": {},
   "source": [
    "La **Encapsulación** por su parte ha sido un tema que, de algún modo, ya se ha visto anteriormente pero jamás se le dio un nombre como tal. Por definicón, la **Encapsulación** es el proceso con el cual se busca denegear el acceso a Atributos y Métodos internos de una Clase desde el exterior. "
   ]
  },
  {
   "cell_type": "markdown",
   "metadata": {},
   "source": [
    "En la Sección de **Atributos** se estudio a los **Atributos Privados**, bueno, oficialmente eso es **Encapsulación** para Atributos. Como se recordará, Python por defecto trabaja los Atributos y Métodos de una Clase de forma **Pública** por lo que cualquier código que trabaje con la Clase tendrá acceso a ellos y utilizarlos del modo que se desee. "
   ]
  },
  {
   "cell_type": "markdown",
   "metadata": {},
   "source": [
    "Un modo *no oficial* para lograr la **Encapsulación** en los Atributos es la implementación del caracter doble guión bajo antes del nombre del Atributo que queremos ocultar: *__atributo*\n",
    "\n",
    "Para rememorar el funcionamiento de un **Atributo Privado**, simularemos el ingreso de una clave bancaria en la SubClase *'ATM'* de modo **Privado** por lo cual directamente desde el Objeto *'atm'* no podría ser accedido, sino que requeriría de un Método **Get**:"
   ]
  },
  {
   "cell_type": "code",
   "execution_count": 91,
   "metadata": {},
   "outputs": [
    {
     "name": "stdout",
     "output_type": "stream",
     "text": [
      "¡Soy un Método Abstracto y quiero todo tu dinero!\n",
      "Impuesto: $ 24.0\n",
      "Ver mi Clave:  16030\n"
     ]
    },
    {
     "ename": "AttributeError",
     "evalue": "'ATM' object has no attribute '__bankkey'",
     "output_type": "error",
     "traceback": [
      "\u001b[0;31m---------------------------------------------------------------------------\u001b[0m",
      "\u001b[0;31mAttributeError\u001b[0m                            Traceback (most recent call last)",
      "\u001b[0;32m<ipython-input-91-7986486da4ee>\u001b[0m in \u001b[0;36m<module>\u001b[0;34m\u001b[0m\n\u001b[1;32m     27\u001b[0m \u001b[0mprint\u001b[0m\u001b[0;34m(\u001b[0m\u001b[0;34m\"Ver mi Clave: \"\u001b[0m\u001b[0;34m,\u001b[0m \u001b[0matm\u001b[0m\u001b[0;34m.\u001b[0m\u001b[0mgetBankKey\u001b[0m\u001b[0;34m(\u001b[0m\u001b[0;34m)\u001b[0m\u001b[0;34m)\u001b[0m\u001b[0;34m\u001b[0m\u001b[0;34m\u001b[0m\u001b[0m\n\u001b[1;32m     28\u001b[0m \u001b[0;34m\u001b[0m\u001b[0m\n\u001b[0;32m---> 29\u001b[0;31m \u001b[0mprint\u001b[0m\u001b[0;34m(\u001b[0m\u001b[0;34m\"Ver mi Clave: \"\u001b[0m\u001b[0;34m,\u001b[0m \u001b[0matm\u001b[0m\u001b[0;34m.\u001b[0m\u001b[0m__bankkey\u001b[0m\u001b[0;34m)\u001b[0m\u001b[0;34m\u001b[0m\u001b[0;34m\u001b[0m\u001b[0m\n\u001b[0m",
      "\u001b[0;31mAttributeError\u001b[0m: 'ATM' object has no attribute '__bankkey'"
     ]
    }
   ],
   "source": [
    "from abc import ABC, abstractmethod\n",
    "\n",
    "class Bank(ABC):\n",
    "    \n",
    "    IVA = 0.16\n",
    "        \n",
    "    @abstractmethod\n",
    "    def taxes(self):\n",
    "        print(\"¡Soy un Método Abstracto y quiero todo tu dinero!\")\n",
    "\n",
    "class ATM(Bank):\n",
    "    \n",
    "    def __init__(self, bankkey, money):\n",
    "        self.__bankkey = bankkey\n",
    "        self.money = money\n",
    "            \n",
    "    def taxes(self):\n",
    "        super().taxes()\n",
    "        return ATM.IVA * self.money\n",
    "    \n",
    "    def getBankKey(self):\n",
    "        return self.__bankkey\n",
    "\n",
    "atm = ATM(16030, 150)\n",
    "print(\"Impuesto: $\", atm.taxes())\n",
    "\n",
    "print(\"Ver mi Clave: \", atm.getBankKey())\n",
    "\n",
    "print(\"Ver mi Clave: \", atm.__bankkey)"
   ]
  },
  {
   "cell_type": "markdown",
   "metadata": {},
   "source": [
    "Del mismo modo, para la **Encapsulación** de Métodos, éstos siguen la regla de implementar del caracter doble guión bajo antes del nombre del Método que queremos ocultar: *__metodo*\n",
    "\n",
    "Para ejemplificar la **Encapsulación** de Métodos, simularemos el cambio de la clave bancaria que realizaría un usuario en la SubClase *'ATM'* y esta nueva clave se tendrá que ver reflejado en toda la SubClase:"
   ]
  },
  {
   "cell_type": "code",
   "execution_count": 92,
   "metadata": {},
   "outputs": [
    {
     "name": "stdout",
     "output_type": "stream",
     "text": [
      "¡Soy un Método Abstracto y quiero todo tu dinero!\n",
      "Impuesto: -$ 24.0\n",
      "Ver mi Clave:  16030\n",
      "Cambio de Contraseña:  ¡Cambio de Clave Exitoso!\n",
      "Ver mi Clave:  34060\n"
     ]
    },
    {
     "ename": "AttributeError",
     "evalue": "'ATM' object has no attribute '__changeBankKey'",
     "output_type": "error",
     "traceback": [
      "\u001b[0;31m---------------------------------------------------------------------------\u001b[0m",
      "\u001b[0;31mAttributeError\u001b[0m                            Traceback (most recent call last)",
      "\u001b[0;32m<ipython-input-92-97a3de5978db>\u001b[0m in \u001b[0;36m<module>\u001b[0;34m\u001b[0m\n\u001b[1;32m     38\u001b[0m \u001b[0mprint\u001b[0m\u001b[0;34m(\u001b[0m\u001b[0;34m\"Ver mi Clave: \"\u001b[0m\u001b[0;34m,\u001b[0m \u001b[0matm\u001b[0m\u001b[0;34m.\u001b[0m\u001b[0mgetBankKey\u001b[0m\u001b[0;34m(\u001b[0m\u001b[0;34m)\u001b[0m\u001b[0;34m)\u001b[0m\u001b[0;34m\u001b[0m\u001b[0;34m\u001b[0m\u001b[0m\n\u001b[1;32m     39\u001b[0m \u001b[0;34m\u001b[0m\u001b[0m\n\u001b[0;32m---> 40\u001b[0;31m \u001b[0mprint\u001b[0m\u001b[0;34m(\u001b[0m\u001b[0;34m\"Cambio de Contraseña: \"\u001b[0m\u001b[0;34m,\u001b[0m \u001b[0matm\u001b[0m\u001b[0;34m.\u001b[0m\u001b[0m__changeBankKey\u001b[0m\u001b[0;34m(\u001b[0m\u001b[0;36m34060\u001b[0m\u001b[0;34m)\u001b[0m\u001b[0;34m)\u001b[0m\u001b[0;34m\u001b[0m\u001b[0;34m\u001b[0m\u001b[0m\n\u001b[0m",
      "\u001b[0;31mAttributeError\u001b[0m: 'ATM' object has no attribute '__changeBankKey'"
     ]
    }
   ],
   "source": [
    "from abc import ABC, abstractmethod\n",
    "\n",
    "class Bank(ABC):\n",
    "    \n",
    "    IVA = 0.16\n",
    "        \n",
    "    @abstractmethod\n",
    "    def taxes(self):\n",
    "        print(\"¡Soy un Método Abstracto y quiero todo tu dinero!\")\n",
    "\n",
    "class ATM(Bank):\n",
    "    \n",
    "    def __init__(self, bankkey, money):\n",
    "        self.__bankkey = bankkey\n",
    "        self.money = money\n",
    "            \n",
    "    def taxes(self):\n",
    "        super().taxes()\n",
    "        return ATM.IVA * self.money\n",
    "    \n",
    "    def getBankKey(self):\n",
    "        return self.__bankkey\n",
    "    \n",
    "    def __changeBankKey(self, newBankKey):\n",
    "        self.__bankkey = newBankKey\n",
    "        return \"¡Cambio de Clave Exitoso!\"\n",
    "    \n",
    "    def changeBankKey(self, newBankKey):\n",
    "        return self.__changeBankKey(newBankKey)\n",
    "\n",
    "atm = ATM(16030, 150)\n",
    "print(\"Impuesto: -$\", atm.taxes())\n",
    "\n",
    "print(\"Ver mi Clave: \", atm.getBankKey())\n",
    "\n",
    "print(\"Cambio de Contraseña: \", atm.changeBankKey(34060))\n",
    "\n",
    "print(\"Ver mi Clave: \", atm.getBankKey())\n",
    "\n",
    "print(\"Cambio de Contraseña: \", atm.__changeBankKey(34060))"
   ]
  },
  {
   "cell_type": "markdown",
   "metadata": {},
   "source": [
    "Se podría decir de algún modo que, ahora sí, tanto los Atributos como los Métodos estan siendo **Encapsulados** para cualquier código externo a la Clase; pero esto no es así, ya que si se puede acceder a ellos e inclusive modificarlos, todo con la siguiente sentencia: *_Class__atributo* y *_Class__metodo*"
   ]
  },
  {
   "cell_type": "code",
   "execution_count": 93,
   "metadata": {},
   "outputs": [
    {
     "name": "stdout",
     "output_type": "stream",
     "text": [
      "Ver mi Clave:  16030\n",
      "Cambio de Contraseña:  ¡Cambio de Clave Exitoso!\n"
     ]
    }
   ],
   "source": [
    "from abc import ABC, abstractmethod\n",
    "\n",
    "class Bank(ABC):\n",
    "    \n",
    "    IVA = 0.16\n",
    "        \n",
    "    @abstractmethod\n",
    "    def taxes(self):\n",
    "        print(\"¡Soy un Método Abstracto y quiero todo tu dinero!\")\n",
    "\n",
    "class ATM(Bank):\n",
    "    \n",
    "    def __init__(self, bankkey, money):\n",
    "        self.__bankkey = bankkey\n",
    "        self.money = money\n",
    "            \n",
    "    def taxes(self):\n",
    "        super().taxes()\n",
    "        return ATM.IVA * self.money\n",
    "    \n",
    "    def getBankKey(self):\n",
    "        return self.__bankkey\n",
    "    \n",
    "    def __changeBankKey(self, newBankKey):\n",
    "        self.__bankkey = newBankKey\n",
    "        return \"¡Cambio de Clave Exitoso!\"\n",
    "    \n",
    "    def changeBankKey(self, newBankKey):\n",
    "        return self.__changeBankKey(newBankKey)\n",
    "\n",
    "atm = ATM(16030, 150)\n",
    "\n",
    "print(\"Ver mi Clave: \", atm._ATM__bankkey)\n",
    "\n",
    "print(\"Cambio de Contraseña: \", atm._ATM__changeBankKey(34060))"
   ]
  },
  {
   "cell_type": "code",
   "execution_count": null,
   "metadata": {},
   "outputs": [],
   "source": []
  }
 ],
 "metadata": {
  "kernelspec": {
   "display_name": "Python 3",
   "language": "python",
   "name": "python3"
  },
  "language_info": {
   "codemirror_mode": {
    "name": "ipython",
    "version": 3
   },
   "file_extension": ".py",
   "mimetype": "text/x-python",
   "name": "python",
   "nbconvert_exporter": "python",
   "pygments_lexer": "ipython3",
   "version": "3.8.3"
  }
 },
 "nbformat": 4,
 "nbformat_minor": 4
}
