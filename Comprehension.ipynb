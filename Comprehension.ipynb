{
 "cells": [
  {
   "cell_type": "markdown",
   "metadata": {},
   "source": [
    "# Comprehension"
   ]
  },
  {
   "cell_type": "markdown",
   "metadata": {},
   "source": [
    "Comprehension es un modo compacto de crear Estructuras de Datos en Python desde una o más iteraciones. Comprehension hace posible para ti el combinar Ciclos con Condicionales con una sintaxis reducida. En otras palabras, lo hace más Pythonico. Comprehension toma 3 rubros: List Comprehension, Dictionary Comprehension y Set Comprehension. "
   ]
  },
  {
   "cell_type": "markdown",
   "metadata": {},
   "source": [
    "# List Comprehension"
   ]
  },
  {
   "cell_type": "markdown",
   "metadata": {},
   "source": [
    "Antes que nada, debemos comprender la estructura de una Condicional anidada en un Ciclo:"
   ]
  },
  {
   "cell_type": "code",
   "execution_count": 1,
   "metadata": {},
   "outputs": [],
   "source": [
    "# for item in list:\n",
    "#     if conditional:\n",
    "#        expression"
   ]
  },
  {
   "cell_type": "markdown",
   "metadata": {},
   "source": [
    "Por lo que para una List Comprehension, la estructura sería la siguiente:"
   ]
  },
  {
   "cell_type": "code",
   "execution_count": 2,
   "metadata": {},
   "outputs": [],
   "source": [
    "# [expression FOR item IN list IF condition]"
   ]
  },
  {
   "cell_type": "markdown",
   "metadata": {},
   "source": [
    "El ejemplo más básico a crear sería una List Comprehension de números definidos por un rango:"
   ]
  },
  {
   "cell_type": "code",
   "execution_count": 3,
   "metadata": {},
   "outputs": [
    {
     "name": "stdout",
     "output_type": "stream",
     "text": [
      "Numeros:  [1, 2, 3, 4, 5]\n"
     ]
    }
   ],
   "source": [
    "list_Numeros = [numero for numero in range(1,6)]\n",
    "print(\"Numeros: \", list_Numeros)"
   ]
  },
  {
   "cell_type": "markdown",
   "metadata": {},
   "source": [
    "Otro ejemplo podría ser crear una List Comprehension de número pares:"
   ]
  },
  {
   "cell_type": "code",
   "execution_count": 4,
   "metadata": {},
   "outputs": [
    {
     "name": "stdout",
     "output_type": "stream",
     "text": [
      "Numeros:  [2, 4, 6, 8, 10]\n"
     ]
    }
   ],
   "source": [
    "list_Numeros = [numero for numero in range(1,11) if numero % 2 == 0]\n",
    "print(\"Numeros Pares: \", list_Numeros)"
   ]
  },
  {
   "cell_type": "markdown",
   "metadata": {},
   "source": [
    "Oh crear una List Comprehension con únicamente los números que posean el elemento '3':"
   ]
  },
  {
   "cell_type": "code",
   "execution_count": 5,
   "metadata": {},
   "outputs": [
    {
     "name": "stdout",
     "output_type": "stream",
     "text": [
      "Numeros:  [3, 13, 23, 30, 31, 32, 33, 34, 35, 36, 37, 38, 39, 43, 53, 63, 73, 83, 93]\n"
     ]
    }
   ],
   "source": [
    "list_Numeros = [numero for numero in range(1,100) if '3' in str(numero)]\n",
    "print(\"Numeros: \", list_Numeros)"
   ]
  },
  {
   "cell_type": "markdown",
   "metadata": {},
   "source": [
    "# Dictionary Comprehension"
   ]
  },
  {
   "cell_type": "markdown",
   "metadata": {},
   "source": [
    "No todo es Listas, los Diccionarios también tienen Comprehensions. La estructura sería la siguiente:"
   ]
  },
  {
   "cell_type": "code",
   "execution_count": 2,
   "metadata": {},
   "outputs": [],
   "source": [
    "# {key_expression: value_expression FOR item in LIST IF condition}"
   ]
  },
  {
   "cell_type": "markdown",
   "metadata": {},
   "source": [
    "Un ejemplo básico sería el cuántas letras tiene una palabra:"
   ]
  },
  {
   "cell_type": "code",
   "execution_count": 3,
   "metadata": {},
   "outputs": [
    {
     "name": "stdout",
     "output_type": "stream",
     "text": [
      "Cantidad de Letras:  {'W': 1, 'o': 2, 'd': 2, 'y': 1, ' ': 1, 'P': 1, 'r': 1, 'i': 1, 'e': 1}\n"
     ]
    }
   ],
   "source": [
    "str_Nombre = 'Woody Pride'\n",
    "dict_Contar = {letra:str_Nombre.count(letra) for letra in (str_Nombre)}\n",
    "print(\"Cantidad de Letras: \", dict_Contar)"
   ]
  },
  {
   "cell_type": "markdown",
   "metadata": {},
   "source": [
    "# Set Comprehension"
   ]
  },
  {
   "cell_type": "markdown",
   "metadata": {},
   "source": [
    "Por último, también existen los Set Comprehension. Su versión simple luce como el List y Dictionary Comprehension que anteriormente se ha visto:"
   ]
  },
  {
   "cell_type": "code",
   "execution_count": 1,
   "metadata": {},
   "outputs": [],
   "source": [
    "# {expression FOR item IN list IF condition}"
   ]
  },
  {
   "cell_type": "markdown",
   "metadata": {},
   "source": [
    "Un ejemplo básico sería encontrar todos los número impares:"
   ]
  },
  {
   "cell_type": "code",
   "execution_count": 12,
   "metadata": {},
   "outputs": [
    {
     "name": "stdout",
     "output_type": "stream",
     "text": [
      "Numeros Impares:  {1, 3, 5, 7, 9}\n"
     ]
    }
   ],
   "source": [
    "set_Numeros = {numero for numero in range(1,11) if numero % 2 == 1}\n",
    "print(\"Numeros Impares: \", set_Numeros)"
   ]
  }
 ],
 "metadata": {
  "kernelspec": {
   "display_name": "Python 3",
   "language": "python",
   "name": "python3"
  },
  "language_info": {
   "codemirror_mode": {
    "name": "ipython",
    "version": 3
   },
   "file_extension": ".py",
   "mimetype": "text/x-python",
   "name": "python",
   "nbconvert_exporter": "python",
   "pygments_lexer": "ipython3",
   "version": "3.8.3"
  }
 },
 "nbformat": 4,
 "nbformat_minor": 4
}
