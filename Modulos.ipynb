{
 "cells": [
  {
   "cell_type": "markdown",
   "metadata": {},
   "source": [
    "# Módulos"
   ]
  },
  {
   "cell_type": "markdown",
   "metadata": {},
   "source": [
    "Los Módulos nacen con el objetivo de poder crear y usar código en Python más que un archivo simple *.py* como extensión. El código posee una similitud del cómo una persona lee un libro, por ejemplo, donde los **Tipos de Datos** son las *Palabras*, las **Declaraciones** son las *Oraciones*, las **Funciones** son los *Párrafos* y los **Módulos** son los *Capítulos* "
   ]
  },
  {
   "cell_type": "markdown",
   "metadata": {},
   "source": [
    "# Importar un Módulo"
   ]
  },
  {
   "cell_type": "markdown",
   "metadata": {},
   "source": [
    "Podemos obtener el código de otro Módulo usando la declaracion *import*. El uso simple de la declaración *import* es **import module**, donde *module* es el nombre del otro archivo Python sin la extensión *.py* al final. Para esta sección vamos a simular a un grupo de superhéroes e imprimir en pantalla a uno de ellos. El programa principal imprime al superhéroe y el Módulo retornará el nombre de éste."
   ]
  },
  {
   "cell_type": "code",
   "execution_count": null,
   "metadata": {},
   "outputs": [],
   "source": [
    "# Programa Principal (C:\\\\Justice_League.py)\n",
    "\n",
    "import Superhero\n",
    "\n",
    "myHero = Superhero.get_Superhero()\n",
    "print(myHero)"
   ]
  },
  {
   "cell_type": "code",
   "execution_count": null,
   "metadata": {},
   "outputs": [],
   "source": [
    "# Programa Secundario (C:\\\\Superhero.py)\n",
    "\n",
    "from random import choice\n",
    "\n",
    "def get_Superhero():\n",
    "    list_Superheros = ['Superman', 'Batman', 'Wonder Woman', 'Flash', 'Aquaman', 'Cyborg']\n",
    "    return choice(list_Superheros)"
   ]
  },
  {
   "cell_type": "markdown",
   "metadata": {},
   "source": [
    "Si se tienen estos dos archivos en el mismo Directorio y se ejecuta *Justice_League.py* como el programa principal, se tendrá acceso al Módulo *Superhero.py*, a la Función **def get_Superhero()** y a todo lo que éste posea. "
   ]
  },
  {
   "cell_type": "markdown",
   "metadata": {},
   "source": [
    "# Importar un Módulo con otro nombre"
   ]
  },
  {
   "cell_type": "markdown",
   "metadata": {},
   "source": [
    "En nuestro programa pricipal *Justice_League.py*, llamamos **import Superhero**, pero ¿qué pasaría su tuviésemos otro Módulo con el mismo nombre? En estas situaciones se pueden hacer sentencias **import** con un *alias* o seudónimo:"
   ]
  },
  {
   "cell_type": "code",
   "execution_count": null,
   "metadata": {},
   "outputs": [],
   "source": [
    "# Programa Principal (C:\\\\Justice_League.py)\n",
    "\n",
    "import Superhero as sp\n",
    "\n",
    "myHero = sp.get_Superhero()\n",
    "print(myHero)"
   ]
  },
  {
   "cell_type": "markdown",
   "metadata": {},
   "source": [
    "# Importar sólo lo que se requiere del Módulo"
   ]
  },
  {
   "cell_type": "markdown",
   "metadata": {},
   "source": [
    "Gracias a Python se pueden importar, si bien varios módulos a la vez, igualmente una o más partes del mismo módulo. Cada una de las partes conservará su nombre original o se le puede asinar un alias.  "
   ]
  },
  {
   "cell_type": "code",
   "execution_count": null,
   "metadata": {},
   "outputs": [],
   "source": [
    "# Programa Principal (C:\\\\Justice_League.py)\n",
    "\n",
    "from Superhero import get_Superhero\n",
    "\n",
    "myHero = get_Superhero()\n",
    "print(myHero)"
   ]
  },
  {
   "cell_type": "markdown",
   "metadata": {},
   "source": [
    "Ahora con un alias:"
   ]
  },
  {
   "cell_type": "code",
   "execution_count": null,
   "metadata": {},
   "outputs": [],
   "source": [
    "# Programa Principal (C:\\\\Justice_League.py)\n",
    "\n",
    "from Superhero import get_Superhero as do_it\n",
    "\n",
    "myHero = do_it()\n",
    "print(myHero)"
   ]
  },
  {
   "cell_type": "markdown",
   "metadata": {},
   "source": [
    "# Importar un Módulo desde Paquetes"
   ]
  },
  {
   "cell_type": "markdown",
   "metadata": {},
   "source": [
    "Podemos generar aplicaciones más escalables en Python simplemente organizando de modo jerárquico varios Módulos llamados **Paquetes**. "
   ]
  },
  {
   "cell_type": "code",
   "execution_count": null,
   "metadata": {},
   "outputs": [],
   "source": [
    "# Programa Principal (C:\\\\Comics\\\\Justice_League.py)\n",
    "\n",
    "from Heroes import Superhero\n",
    "from Villians import Villians\n",
    "\n",
    "myHero = Superhero.get_Superhero()\n",
    "myVillan = Villains.get_Villian()\n",
    "print(myHero)\n",
    "print(myVillan)"
   ]
  },
  {
   "cell_type": "code",
   "execution_count": null,
   "metadata": {},
   "outputs": [],
   "source": [
    "# Programa Secundario (C:\\\\Comics\\\\Heroes\\\\Superhero.py)\n",
    "\n",
    "from random import choice\n",
    "\n",
    "def get_Superhero():\n",
    "    list_Superheros = ['Superman', 'Batman', 'Wonder Woman', 'Flash', 'Aquaman', 'Cyborg']\n",
    "    return choice(list_Superheros)"
   ]
  },
  {
   "cell_type": "code",
   "execution_count": null,
   "metadata": {},
   "outputs": [],
   "source": [
    "# Programa Secundario (C:\\\\Comics\\\\Villains\\\\Villains.py)\n",
    "\n",
    "from random import choice\n",
    "\n",
    "def get_Villian():\n",
    "    list_Villian = ['Lex Luthor', 'Joker', 'Cheetah', 'Reverse Flash', 'Black Manta', 'Grid']\n",
    "    return choice(list_Villian)"
   ]
  }
 ],
 "metadata": {
  "kernelspec": {
   "display_name": "Python 3",
   "language": "python",
   "name": "python3"
  },
  "language_info": {
   "codemirror_mode": {
    "name": "ipython",
    "version": 3
   },
   "file_extension": ".py",
   "mimetype": "text/x-python",
   "name": "python",
   "nbconvert_exporter": "python",
   "pygments_lexer": "ipython3",
   "version": "3.8.3"
  }
 },
 "nbformat": 4,
 "nbformat_minor": 4
}
