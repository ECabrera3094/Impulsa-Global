{
 "cells": [
  {
   "cell_type": "markdown",
   "metadata": {},
   "source": [
    "# Atributos"
   ]
  },
  {
   "cell_type": "markdown",
   "metadata": {},
   "source": [
    "Formalmente un **Atributo** es una variable al interior de una Clase. Durante o después de que un Objeto o clase ha sido creado, se pueden asignar Atributos a estos. Veamos un ejemplo:"
   ]
  },
  {
   "cell_type": "code",
   "execution_count": 8,
   "metadata": {},
   "outputs": [
    {
     "name": "stdout",
     "output_type": "stream",
     "text": [
      "chanchilla\n"
     ]
    }
   ],
   "source": [
    "class Cat():\n",
    "    pass\n",
    "\n",
    "my_cat = Cat()\n",
    "my_cat_2 = Cat()\n",
    "\n",
    "# Definimos Atributos.\n",
    "\n",
    "my_cat.name = 'chanchilla'\n",
    "\n",
    "my_cat.age = 5\n",
    "\n",
    "my_cat.nemesis = my_cat_2 \n",
    "\n",
    "print(my_cat.name)"
   ]
  },
  {
   "cell_type": "markdown",
   "metadata": {},
   "source": [
    "Al momento de Instanciar a la clase *Cat()*, comienza la definición de Atributos, siendo estos características propias de un gato tales como su **Nombre** o **Edad**. Inlusive podemos referir un Atributo con otro Objeto de la Clase *Cat()* tal como sucedio con *my_cat.nemesis* y asignarle también Atributos característicos de otro gato: "
   ]
  },
  {
   "cell_type": "code",
   "execution_count": 9,
   "metadata": {},
   "outputs": [
    {
     "name": "stdout",
     "output_type": "stream",
     "text": [
      "monina\n"
     ]
    }
   ],
   "source": [
    "my_cat.nemesis.name = 'monina'\n",
    "\n",
    "my_cat.nemesis.age = 5\n",
    "\n",
    "print(my_cat.nemesis.name)"
   ]
  },
  {
   "cell_type": "markdown",
   "metadata": {},
   "source": [
    "Un Objeto tan simple como *my_cat* puede almacenar múltiples Atributos por lo que se pueden usar diferentes Objetos para almacenar diferentes valores en lugar de usar algo como por ejemplo, el Diccionario. "
   ]
  },
  {
   "cell_type": "markdown",
   "metadata": {},
   "source": [
    "# Atributos de Clase"
   ]
  },
  {
   "cell_type": "markdown",
   "metadata": {},
   "source": [
    "Se pueden asignar Atributos a una Clase y estos ser heredados a los Objetos que instancian a la Clase:"
   ]
  },
  {
   "cell_type": "code",
   "execution_count": 5,
   "metadata": {},
   "outputs": [
    {
     "name": "stdout",
     "output_type": "stream",
     "text": [
      "Color:  Orange\n",
      "Color:  Orange\n"
     ]
    }
   ],
   "source": [
    "class Cat():\n",
    "    color = 'Orange'\n",
    "    \n",
    "my_cat = Cat()\n",
    "print(\"Color: \", my_cat.color)\n",
    "print(\"Color: \", Cat.color)"
   ]
  },
  {
   "cell_type": "markdown",
   "metadata": {},
   "source": [
    "Se puede modificar el Valor del Atributo desde el Objeto que instancia a la Clase y éste conservar el nuevo valor, pero el proceso no afecta al Atributo de Clase en sí:"
   ]
  },
  {
   "cell_type": "code",
   "execution_count": 9,
   "metadata": {},
   "outputs": [
    {
     "name": "stdout",
     "output_type": "stream",
     "text": [
      "Color:  Black\n",
      "Color:  Orange\n"
     ]
    }
   ],
   "source": [
    "class Cat():\n",
    "    color = 'Orange'\n",
    "    \n",
    "my_cat = Cat()\n",
    "\n",
    "my_cat.color = 'Black'\n",
    "\n",
    "print(\"Color: \", my_cat.color)\n",
    "\n",
    "print(\"Color: \", Cat.color)"
   ]
  },
  {
   "cell_type": "markdown",
   "metadata": {},
   "source": [
    "También se puede modificar al Atributo de Clase después y no afectar objetos existentes, únicamente a Objetos futuros:"
   ]
  },
  {
   "cell_type": "code",
   "execution_count": 10,
   "metadata": {},
   "outputs": [
    {
     "name": "stdout",
     "output_type": "stream",
     "text": [
      "Color:  White\n",
      "Color:  White\n",
      "Color:  White\n"
     ]
    }
   ],
   "source": [
    "class Cat():\n",
    "    color = 'Orange'\n",
    "    \n",
    "my_cat = Cat()\n",
    "\n",
    "my_cat.color = 'Black'\n",
    "\n",
    "Cat.color = 'White'\n",
    "\n",
    "print(\"Color: \", my_cat.color)\n",
    "\n",
    "print(\"Color: \", Cat.color)\n",
    "\n",
    "my_cat_2 = Cat()\n",
    "\n",
    "print(\"Color: \", my_cat_2.color)"
   ]
  },
  {
   "cell_type": "markdown",
   "metadata": {},
   "source": [
    "# Inicialización de Atributos"
   ]
  },
  {
   "cell_type": "markdown",
   "metadata": {},
   "source": [
    "Si se desea asignar Atributos durante el tiempo de la creación de la Clase, es necesario un Método especial de Python llamado **__init__()**, también conocido como **Método inicializador**:"
   ]
  },
  {
   "cell_type": "code",
   "execution_count": 10,
   "metadata": {},
   "outputs": [],
   "source": [
    "class Cat():\n",
    "    def __init__(self):\n",
    "        pass"
   ]
  },
  {
   "cell_type": "markdown",
   "metadata": {},
   "source": [
    "Así es como se verá algunas veces la definición de una Clase en Python, por lo que trataremos de explicar cada una de las partes: **__init__** es un Método especial de Python que se crea primero al ejecutar la clase, por ejemplo *Cat()*, y siempre es llamado automáticamente. Si bien **NUNCA** retorna un valor, éste Método puede recibir una infinidad de valores sin problema alguno. "
   ]
  },
  {
   "cell_type": "markdown",
   "metadata": {},
   "source": [
    "Por su parte, el primer parámetro que debe recibir **SIEMPRE** el Método se define como **Self**, cuya definición básicamente es hacer una *referencia* al Objeto en sí que está instanciando la Clase. Véase de este módo: "
   ]
  },
  {
   "cell_type": "code",
   "execution_count": 11,
   "metadata": {},
   "outputs": [],
   "source": [
    "class Cat():\n",
    "    def __init__(my_cat):\n",
    "        pass\n",
    "    \n",
    "my_cat = Cat()"
   ]
  },
  {
   "cell_type": "markdown",
   "metadata": {},
   "source": [
    "Si bien la referencia puede tener cualquier nombre, por versatilidad y convenio, muchos programadores siempre trabajan con *Self* por lo que a lo largo de éste curso también se implementará siempre *Self*. Ya con todo esto podemos ahora sí crear un simple Objeto en Python y asignarle un Atributo. Asignamos el parámetro *name* al Méthodo Inicializador como cadena de texto:   "
   ]
  },
  {
   "cell_type": "code",
   "execution_count": 12,
   "metadata": {},
   "outputs": [
    {
     "name": "stdout",
     "output_type": "stream",
     "text": [
      "Nombre:  chanchilla\n"
     ]
    }
   ],
   "source": [
    "class Cat():\n",
    "    def __init__(self, name):\n",
    "        self.name = name\n",
    "    \n",
    "my_cat = Cat('chanchilla')\n",
    "print(\"Nombre: \", my_cat.name)"
   ]
  },
  {
   "cell_type": "markdown",
   "metadata": {},
   "source": [
    "Se debe dejar en claro que al *interior* de la Clase *Cat()* se accede al Atributo *name* como *self.name*. Y cuando se crea el Objeto que instancia a la Clase, nos referimos al Atriburo *name* como *my_cat.name*. Recordemos que no siempre es necesario tener un Método **init()** en cada definicón de Clases; es utiliado para hacer cualquier cosa que necesite distiguir a algunos Objetos de otros creado en la misma Clase."
   ]
  },
  {
   "cell_type": "markdown",
   "metadata": {},
   "source": [
    "# Atributos Públicos y Privados"
   ]
  },
  {
   "cell_type": "markdown",
   "metadata": {},
   "source": [
    "Por defecto, Python trabaja todos los Atributos de una Clase de forma **Pública**, es decir, que desde un código que use la Clase, éste puede acceder al Atributo y utilizarlo del modo que desee. Otros Lenguajes de Programación si requieren la definición puntual de qué Atributos son **Públicos** y/o **Privados** dentro de la Clase. \n",
    "No obstante, existen dos modos \"no oficiales\" en Python que permite trabajar con Atributos **Privados**, o sea internos y que no deberían existir fuera de la Clase ni ser modificados de algún modo.\n"
   ]
  },
  {
   "cell_type": "markdown",
   "metadata": {},
   "source": [
    "El primero de ellos es usando el caracter guión bajo antes del nombre del Atributo que queremos ocultar: *_atributo*. El Atributo seguirá siendo accesible desde fuera de la clase para el programador pero se está indicando que exactamente ese Atributo es **Privado** y no debe ser utilizado bajo ninguna circunstancia dado que no sabemos qué consecuencia traería dentro del código. Veamos un ejemplo:"
   ]
  },
  {
   "cell_type": "code",
   "execution_count": 9,
   "metadata": {},
   "outputs": [
    {
     "name": "stdout",
     "output_type": "stream",
     "text": [
      "Nombre:  chanchilla\n",
      "Nombre:  chanchilla\n",
      "Nuevo Nombre:  Smitty Werben Man Jensen\n"
     ]
    }
   ],
   "source": [
    "class Cat():\n",
    "    def __init__(self, name):\n",
    "        self._name = name\n",
    "        \n",
    "    def show_name(self):\n",
    "        return self._name\n",
    "    \n",
    "my_cat = Cat('chanchilla')\n",
    "\n",
    "print(\"Nombre: \", my_cat.show_name())\n",
    "print(\"Nombre: \", my_cat._name)\n",
    "my_cat._name = \"Smitty Werben Man Jensen\" # Modificamos el Atributo\n",
    "print(\"Nuevo Nombre: \", my_cat._name)"
   ]
  },
  {
   "cell_type": "markdown",
   "metadata": {},
   "source": [
    "El segundo modo es implementar el caracter doble guión bajo antes del nombre del Atributo que queremos ocultar: *__atributo*."
   ]
  },
  {
   "cell_type": "code",
   "execution_count": 16,
   "metadata": {},
   "outputs": [
    {
     "name": "stdout",
     "output_type": "stream",
     "text": [
      "Nombre:  chanchilla\n"
     ]
    },
    {
     "ename": "AttributeError",
     "evalue": "'Cat' object has no attribute '__name'",
     "output_type": "error",
     "traceback": [
      "\u001b[0;31m---------------------------------------------------------------------------\u001b[0m",
      "\u001b[0;31mAttributeError\u001b[0m                            Traceback (most recent call last)",
      "\u001b[0;32m<ipython-input-16-2bb2aa84dae4>\u001b[0m in \u001b[0;36m<module>\u001b[0;34m\u001b[0m\n\u001b[1;32m     10\u001b[0m \u001b[0mprint\u001b[0m\u001b[0;34m(\u001b[0m\u001b[0;34m\"Nombre: \"\u001b[0m\u001b[0;34m,\u001b[0m \u001b[0mmy_cat\u001b[0m\u001b[0;34m.\u001b[0m\u001b[0mshow_name\u001b[0m\u001b[0;34m(\u001b[0m\u001b[0;34m)\u001b[0m\u001b[0;34m)\u001b[0m\u001b[0;34m\u001b[0m\u001b[0;34m\u001b[0m\u001b[0m\n\u001b[1;32m     11\u001b[0m \u001b[0;34m\u001b[0m\u001b[0m\n\u001b[0;32m---> 12\u001b[0;31m \u001b[0mprint\u001b[0m\u001b[0;34m(\u001b[0m\u001b[0;34m\"Nombre: \"\u001b[0m\u001b[0;34m,\u001b[0m \u001b[0mmy_cat\u001b[0m\u001b[0;34m.\u001b[0m\u001b[0m__name\u001b[0m\u001b[0;34m)\u001b[0m\u001b[0;34m\u001b[0m\u001b[0;34m\u001b[0m\u001b[0m\n\u001b[0m",
      "\u001b[0;31mAttributeError\u001b[0m: 'Cat' object has no attribute '__name'"
     ]
    }
   ],
   "source": [
    "class Cat():\n",
    "    def __init__(self, name):\n",
    "        self.__name = name\n",
    "        \n",
    "    def show_name(self):\n",
    "        return self.__name\n",
    "    \n",
    "my_cat = Cat('chanchilla')\n",
    "\n",
    "print(\"Nombre: \", my_cat.show_name())\n",
    "print(\"Nombre: \", my_cat.__name)"
   ]
  },
  {
   "cell_type": "markdown",
   "metadata": {},
   "source": [
    "Se podría decir de algún modo que, ahora sí, el Atributo esta siendo **Privado** para cualquier código externo a la Clase; pero esto no es así, ya que si se puede acceder a él e inclusive modificarlo, todo con la siguiente sentencia: *_Class__atributo*"
   ]
  },
  {
   "cell_type": "code",
   "execution_count": 19,
   "metadata": {},
   "outputs": [
    {
     "name": "stdout",
     "output_type": "stream",
     "text": [
      "Nombre:  chanchilla\n",
      "Nuevo Nombre:  Smitty Werben Man Jensen\n",
      "Nuevo Nombre:  Smitty Werben Man Jensen\n"
     ]
    }
   ],
   "source": [
    "class Cat():\n",
    "    def __init__(self, name):\n",
    "        self.__name = name\n",
    "        \n",
    "    def show_name(self):\n",
    "        return self.__name\n",
    "    \n",
    "my_cat = Cat('chanchilla')\n",
    "\n",
    "print(\"Nombre: \", my_cat.show_name())\n",
    "my_cat._Cat__name = \"Smitty Werben Man Jensen\" # Modificamos el Atributo\n",
    "print(\"Nuevo Nombre: \", my_cat._Cat__name)\n",
    "print(\"Nuevo Nombre: \", my_cat.show_name())"
   ]
  },
  {
   "cell_type": "markdown",
   "metadata": {},
   "source": [
    "# Getters y Setters"
   ]
  },
  {
   "cell_type": "markdown",
   "metadata": {},
   "source": [
    "Ante todo lo anteriormente visto, los programadores prefieren trabajar esta parte Orientada a Objetos con **Métodos** (Funciones específicas dentro de una Clase, cuyo tema se verá más adelante) llamados **Getters** y **Setters**. Los **Getters** (del inglés *Get* cuya función es *captar* el Atributo) y los **Setters** (del inglés *Set*, cuya función es *definir* el Atributo) permiten garantizar y obtener *cierta* privacidad. Su uso más recurrente es para agregar validaciones lógicas alrededor de un Atributo: "
   ]
  },
  {
   "cell_type": "code",
   "execution_count": 23,
   "metadata": {},
   "outputs": [
    {
     "name": "stdout",
     "output_type": "stream",
     "text": [
      "Get:  chanchilla\n",
      "Get:  Smitty Werben Man Jensen\n"
     ]
    }
   ],
   "source": [
    "class Cat():\n",
    "    def __init__(self, name):\n",
    "        self.name = name\n",
    "        \n",
    "    def get_name(self):\n",
    "        return self.name\n",
    "    \n",
    "    def set_name(self, name):\n",
    "        self.name = name\n",
    "    \n",
    "my_cat = Cat('chanchilla')\n",
    "print(\"Get: \", my_cat.get_name())\n",
    "\n",
    "my_cat.set_name(\"Smitty Werben Man Jensen\")\n",
    "print(\"Get: \", my_cat.get_name())"
   ]
  },
  {
   "cell_type": "markdown",
   "metadata": {},
   "source": [
    "# Función Property()"
   ]
  },
  {
   "cell_type": "markdown",
   "metadata": {},
   "source": [
    "Programadores más avanzados recomiendan también trabajar con la Función definida de Python llamada **property()** que crea y regresa un Objeto de tipo Property. La Función property recibe tres **Métodos** (Funciones específicas dentro de una Clase, cuyo tema se verá más adelante) en respectivo orden:\n",
    "1. Un Método Getter.\n",
    "2. Un Método Setter.\n",
    "3. Un Método Delete.\n",
    "\n",
    "Por el momento únicamente trabajaremos con 2: Getter y Setter. Su declaración al final de la Clase es la siguiente: *atributo = property(get_atributo, set_atributo)*"
   ]
  },
  {
   "cell_type": "code",
   "execution_count": 31,
   "metadata": {},
   "outputs": [
    {
     "name": "stdout",
     "output_type": "stream",
     "text": [
      "Get:  chanchilla\n",
      "Get:  Smitty Werben Man Jensen\n"
     ]
    }
   ],
   "source": [
    "class Cat():\n",
    "    def __init__(self, name):\n",
    "        self.name = name\n",
    "        \n",
    "    def get_name(self):\n",
    "        return self.name\n",
    "    \n",
    "    def set_name(self, name):\n",
    "        self.name = name\n",
    "    \n",
    "    my_name = property(get_name, set_name)\n",
    "    \n",
    "my_cat = Cat('chanchilla')\n",
    "print(\"Get: \", my_cat.my_name)\n",
    "\n",
    "my_cat.my_name = \"Smitty Werben Man Jensen\"\n",
    "print(\"Get: \", my_cat.my_name)"
   ]
  },
  {
   "cell_type": "markdown",
   "metadata": {},
   "source": [
    "# Decorador @property"
   ]
  },
  {
   "cell_type": "markdown",
   "metadata": {},
   "source": [
    "El último modo de trabajar con Getters y Setters es implementando Decoradores propios de Python. Simplemente se insertan los Decoradores y se reemplazan los nombres de los Métodos de *get_name* y *set_name* a únicamente *name*:\n",
    "\n",
    "1. **@property** va antes del Método Get.\n",
    "2. **name.setter** va antes del Método Set.\n",
    "\n",
    "Su declaración sería la siguiente:"
   ]
  },
  {
   "cell_type": "code",
   "execution_count": 34,
   "metadata": {},
   "outputs": [
    {
     "name": "stdout",
     "output_type": "stream",
     "text": [
      "Get:  chanchilla\n",
      "Get:  Smitty Werben Man Jensen\n"
     ]
    }
   ],
   "source": [
    "class Cat():\n",
    "    def __init__(self, name):\n",
    "        self.name = name\n",
    "    \n",
    "    @property\n",
    "    def my_name(self):\n",
    "        return self.name\n",
    "    \n",
    "    @my_name.setter\n",
    "    def my_name(self, name):\n",
    "        self.name = name\n",
    "    \n",
    "my_cat = Cat('chanchilla')\n",
    "print(\"Get: \", my_cat.my_name)\n",
    "\n",
    "my_cat.my_name = \"Smitty Werben Man Jensen\"\n",
    "print(\"Get: \", my_cat.my_name)"
   ]
  }
 ],
 "metadata": {
  "kernelspec": {
   "display_name": "Python 3",
   "language": "python",
   "name": "python3"
  },
  "language_info": {
   "codemirror_mode": {
    "name": "ipython",
    "version": 3
   },
   "file_extension": ".py",
   "mimetype": "text/x-python",
   "name": "python",
   "nbconvert_exporter": "python",
   "pygments_lexer": "ipython3",
   "version": "3.8.3"
  }
 },
 "nbformat": 4,
 "nbformat_minor": 4
}
