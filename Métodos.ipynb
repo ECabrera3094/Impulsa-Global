{
 "cells": [
  {
   "cell_type": "markdown",
   "metadata": {},
   "source": [
    "# Métodos"
   ]
  },
  {
   "cell_type": "markdown",
   "metadata": {},
   "source": [
    "Hablando en un lenguaje más coloquial, muchas veces se relaciona a los **Métodos** como *lo que hace un Objeto, sus posibles acciones en el Mundo Real*.  Algunos Métodos son parte misma de la Clase, otros son parte del Objeto que se está creando desde esa Clase, y otros no son ningunas de las anteriores:\n",
    "\n",
    "1. Si no lo posee un Decorador, es un **Método de Instancia**, y su primer argumento que recibe debe ser siempre *self* para hacer referencia al Objeto indivudual en sí. \n",
    "\n",
    "2. Si posee el Decorador **@classmethod**, es un **Método de Clase** y su primer argumento que recibe debe ser siempre *cls* para hacer referencia a la Clase en sí.\n",
    "\n",
    "3. Si posee el Decorador **@staticmethod**, es un **Método Estático** y sus argumentos no pueden ser Clases u Objetos.\n",
    "\n",
    "Cada uno se explica más a detalle."
   ]
  },
  {
   "cell_type": "markdown",
   "metadata": {},
   "source": [
    "# Métodos de Instancia"
   ]
  },
  {
   "cell_type": "markdown",
   "metadata": {},
   "source": [
    "Se definen dentro de la Clase cuando se está creando y se utilizan mayormente para realizar *operaciones/acciones* con los Atributos Públicos y/o Privados de nuestros Objetos. El primer argumento que recibe debe ser *self* y Python pasa el Objeto al Método cuando es llamado. Prácticamente son todos aquellos que hemos vistos anteriormente. La llamada entre Métodos de Intsnaica es simple, únicamente es anteponer *self* y nombre del Método: *self.MetodoInstancia()*"
   ]
  },
  {
   "cell_type": "code",
   "execution_count": 3,
   "metadata": {},
   "outputs": [],
   "source": [
    "class Cat():\n",
    "    \n",
    "    def Run(self):\n",
    "        pass\n",
    "    \n",
    "    def Sleep(self):\n",
    "        self.Run()"
   ]
  },
  {
   "cell_type": "markdown",
   "metadata": {},
   "source": [
    "# Métodos de Clase"
   ]
  },
  {
   "cell_type": "markdown",
   "metadata": {},
   "source": [
    "En contraste, un **Método de Clase** afecta a TODA la Clase. Cualquier cambio que se haga a la Clase, afecta a TODOS los Objetos relacionados. Posee el Decorador **@classmethod** indicando que la siguiente Función es también un Método de Clase. Tambien, el primer parámetro que recibe es *cls* en lugar de *self*, haciendo referencia a la Clase en sí:"
   ]
  },
  {
   "cell_type": "code",
   "execution_count": 59,
   "metadata": {},
   "outputs": [
    {
     "name": "stdout",
     "output_type": "stream",
     "text": [
      "Sonido:  Purr!\n",
      "Sonido:  Purr!\n"
     ]
    }
   ],
   "source": [
    "class Cat():\n",
    "\n",
    "    def __init__(self, sound):\n",
    "        Cat.sound = sound\n",
    "        \n",
    "    @classmethod   \n",
    "    def Sound(cls):\n",
    "        return cls.sound\n",
    "\n",
    "my_cat = Cat(\"Purr!\")\n",
    "\n",
    "print(\"Sonido: \", my_cat.Sound())\n",
    "\n",
    "print(\"Sonido: \", Cat.Sound())"
   ]
  },
  {
   "cell_type": "markdown",
   "metadata": {},
   "source": [
    "El Atributo *'sound'* se declara con la intención de que le pertenezca a la Clase con *Cat.sound* dentro de **__init__**. El Método de Clase **Sound(cls)** retorna *'sound'* con *cls* y no con *self*. Para la impresión, tanto se puede hacer desde el Objeto que instanció la Clase como desde la Clase misma sin ningún problema."
   ]
  },
  {
   "cell_type": "markdown",
   "metadata": {},
   "source": [
    "# Métodos Estáticos"
   ]
  },
  {
   "cell_type": "markdown",
   "metadata": {},
   "source": [
    "El último tipo de Método, un **Método Estático** no afecta ni a la Clase ni a sus Objetos; no tiene acceso a Atributos y puede ser llamando instanciando la Clase o directamente (como Método de Clase). Posee el Decorador **@staticmethod** y NO recibe ninguna clase de parámetro inicial como *self* o *cls*; UNICAMENTE variables de tipo Cadenas de Texto:"
   ]
  },
  {
   "cell_type": "code",
   "execution_count": 62,
   "metadata": {},
   "outputs": [
    {
     "name": "stdout",
     "output_type": "stream",
     "text": [
      "Purr!\n",
      "Purr!\n"
     ]
    }
   ],
   "source": [
    "class Cat():\n",
    "\n",
    "    def __init__(self):\n",
    "        pass\n",
    "        \n",
    "    @staticmethod\n",
    "    def Sound():\n",
    "        print(\"Purr!\")\n",
    "\n",
    "my_cat = Cat()\n",
    "\n",
    "my_cat.Sound()\n",
    "\n",
    "Cat.Sound()"
   ]
  }
 ],
 "metadata": {
  "kernelspec": {
   "display_name": "Python 3",
   "language": "python",
   "name": "python3"
  },
  "language_info": {
   "codemirror_mode": {
    "name": "ipython",
    "version": 3
   },
   "file_extension": ".py",
   "mimetype": "text/x-python",
   "name": "python",
   "nbconvert_exporter": "python",
   "pygments_lexer": "ipython3",
   "version": "3.8.3"
  }
 },
 "nbformat": 4,
 "nbformat_minor": 4
}
