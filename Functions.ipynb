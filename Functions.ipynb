{
 "cells": [
  {
   "cell_type": "markdown",
   "metadata": {},
   "source": [
    "# Simple Positional Arguments"
   ]
  },
  {
   "cell_type": "markdown",
   "metadata": {},
   "source": [
    "Python permite el manejo de los Argumentos dentro de una Función de una manera inusualmente flexible en comparación con otros Lenguajes de Programación. Los tipos de Argumentos más familiares son los Positional Arguments, cuyos valores se copian en sus parámetros correspondientes en orden. "
   ]
  },
  {
   "cell_type": "code",
   "execution_count": 2,
   "metadata": {},
   "outputs": [
    {
     "name": "stdout",
     "output_type": "stream",
     "text": [
      "{'Vino': 'Tinto', 'Entrada': 'Pasta', 'Postre': 'Pastel'}\n"
     ]
    }
   ],
   "source": [
    "def menu(vino, entrada, postre):\n",
    "    return {'Vino':vino, 'Entrada':entrada, 'Postre':postre }\n",
    "print(menu('Tinto', 'Pasta', 'Pastel'))"
   ]
  },
  {
   "cell_type": "markdown",
   "metadata": {},
   "source": [
    "Aunque es una práctica común, una desventaja de las Funciones es que es necesario recordar el significado de cada posición. Si lo olvidamos y llamamos a menu() con 'vino' como último argumento en lugar del primero, la comida sería muy diferente. Para abolir la confusión, se pueden especificar los argumentos por el nombre correspondiente incluso si se encuentran en un orden diferente  que al de la Función:"
   ]
  },
  {
   "cell_type": "code",
   "execution_count": 3,
   "metadata": {},
   "outputs": [
    {
     "name": "stdout",
     "output_type": "stream",
     "text": [
      "{'Vino': 'Tinto', 'Entrada': 'Sopa', 'Postre': 'Gelatina'}\n"
     ]
    }
   ],
   "source": [
    "print(menu(entrada='Sopa', postre='Gelatina', vino='Tinto'))"
   ]
  },
  {
   "cell_type": "markdown",
   "metadata": {},
   "source": [
    "Incluso se pueden omitir unos y declarar otros argumentos:"
   ]
  },
  {
   "cell_type": "code",
   "execution_count": 14,
   "metadata": {
    "scrolled": true
   },
   "outputs": [
    {
     "name": "stdout",
     "output_type": "stream",
     "text": [
      "{'Vino': 'Tinto', 'Entrada': 'Sopa', 'Postre': 'Helado'}\n"
     ]
    }
   ],
   "source": [
    "print(menu('Tinto', entrada='Sopa', postre='Helado'))"
   ]
  },
  {
   "cell_type": "markdown",
   "metadata": {},
   "source": [
    "# Positional Arguments con *"
   ]
  },
  {
   "cell_type": "markdown",
   "metadata": {},
   "source": [
    "Se debe de asumir que el asterisco (*) agrupa un número cambiable de Positional Arguments y los retorna en una Tupla de valores. "
   ]
  },
  {
   "cell_type": "code",
   "execution_count": 6,
   "metadata": {},
   "outputs": [
    {
     "name": "stdout",
     "output_type": "stream",
     "text": [
      "('Argumentos con *: ', (3, 2, 1, 'Hola', 'Adios', 1, 1, 1, 1, 1, 1, 1, 1, 1, 1, 1, 1))\n"
     ]
    }
   ],
   "source": [
    "def print_args(*args):\n",
    "    return \"Argumentos con *: \", args\n",
    "    \n",
    "print(print_args(3,2,1,'Hola','Adios', 1, 1, 1, 1, 1, 1, 1, 1, 1, 1, 1, 1,))"
   ]
  },
  {
   "cell_type": "markdown",
   "metadata": {},
   "source": [
    "Si la Función también requiere Positional Arguments ya definidos y algún otro posible número cambiante, *args va al final y toma el resto:"
   ]
  },
  {
   "cell_type": "code",
   "execution_count": 16,
   "metadata": {},
   "outputs": [
    {
     "name": "stdout",
     "output_type": "stream",
     "text": [
      "('Variable 1: ', 'Hola', ' Variable 2: ', 'Adios', ' *args: ', 3, 2, 1, 'Hello', 'Goodbay!')\n"
     ]
    }
   ],
   "source": [
    "def print_args2(var1, var2, *args):\n",
    "    return \"Variable 1: \", var1, \" Variable 2: \", var2, \" *args: \", *args\n",
    "\n",
    "print(print_args2(\"Hola\", \"Adios\", 3,2,1,\"Hello\",\"Goodbay!\"))"
   ]
  },
  {
   "cell_type": "markdown",
   "metadata": {},
   "source": [
    "# Positional Arguments con **"
   ]
  },
  {
   "cell_type": "markdown",
   "metadata": {},
   "source": [
    "Se pueden usar doble asterisco (**) para agrupar argumentos en un Diccionario, donde los nombres de los Argumentos son las Llaves (Keys) y los Valores corresponden al valor del Diccionario:"
   ]
  },
  {
   "cell_type": "code",
   "execution_count": 17,
   "metadata": {},
   "outputs": [
    {
     "name": "stdout",
     "output_type": "stream",
     "text": [
      "('Argumentos con **: ', {'entrada': 'Sopa', 'postre': 'Gelatina', 'vino': 'Tinto'})\n"
     ]
    }
   ],
   "source": [
    "def print_kwargs(**kwargs):\n",
    "    return \"Argumentos con **: \", kwargs\n",
    "\n",
    "print(print_kwargs(entrada='Sopa', postre='Gelatina', vino='Tinto'))"
   ]
  },
  {
   "cell_type": "markdown",
   "metadata": {},
   "source": [
    "Es importante resaltar que si se mezclan *args y **kwargs, éstos necesitan aparecer en ése preciso orden."
   ]
  }
 ],
 "metadata": {
  "kernelspec": {
   "display_name": "Python 3",
   "language": "python",
   "name": "python3"
  },
  "language_info": {
   "codemirror_mode": {
    "name": "ipython",
    "version": 3
   },
   "file_extension": ".py",
   "mimetype": "text/x-python",
   "name": "python",
   "nbconvert_exporter": "python",
   "pygments_lexer": "ipython3",
   "version": "3.8.3"
  }
 },
 "nbformat": 4,
 "nbformat_minor": 4
}
