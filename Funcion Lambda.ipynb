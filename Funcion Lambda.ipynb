{
 "cells": [
  {
   "cell_type": "markdown",
   "metadata": {},
   "source": [
    "# Función Lambda"
   ]
  },
  {
   "cell_type": "markdown",
   "metadata": {},
   "source": [
    "También conocida como **Función Anónima**, es un modo compacto de crear una Función con una reducida sintaxis. Es un modo de generar código más Pythonico. Las Funciones Lambda son principalmente útiles para los casos en lo que se necesiten definir muchas funciones diminutas. Antes que nada, debemos comprender el cómo es la estructura de una Función:"
   ]
  },
  {
   "cell_type": "code",
   "execution_count": 3,
   "metadata": {},
   "outputs": [],
   "source": [
    "# def to_do(a):\n",
    "#     return a * 2"
   ]
  },
  {
   "cell_type": "markdown",
   "metadata": {},
   "source": [
    "Por lo que la Función Lambda se formaría del siguiente modo:"
   ]
  },
  {
   "cell_type": "code",
   "execution_count": 4,
   "metadata": {},
   "outputs": [],
   "source": [
    "# Function = Lambda [input] : [process]"
   ]
  },
  {
   "cell_type": "markdown",
   "metadata": {},
   "source": [
    "Un ejemplo básico sería el obtener el valor de multiplicar un número por 2:"
   ]
  },
  {
   "cell_type": "code",
   "execution_count": 5,
   "metadata": {},
   "outputs": [
    {
     "name": "stdout",
     "output_type": "stream",
     "text": [
      "Multiplicacion:  10\n"
     ]
    }
   ],
   "source": [
    "int_Multiplicacion = lambda int_Numero : int_Numero * 2\n",
    "print(\"Multiplicacion: \", int_Multiplicacion(5))"
   ]
  },
  {
   "cell_type": "markdown",
   "metadata": {},
   "source": [
    "Un ejemplo más complejo sería la modificación de los valores de una Lista:"
   ]
  },
  {
   "cell_type": "code",
   "execution_count": 6,
   "metadata": {},
   "outputs": [
    {
     "name": "stdout",
     "output_type": "stream",
     "text": [
      "Cambio : ['S!', 'U!', 'P!', 'E!', 'R!', 'M!', 'A!', 'N!']\n"
     ]
    }
   ],
   "source": [
    "list_Nombre = ['S','U','P','E','R','M','A','N']\n",
    "list_Nombre2 = []\n",
    "\n",
    "str_Cambio = lambda letra, i : letra[i] + \"!\"\n",
    "\n",
    "for i in range(len(list_Nombre)):\n",
    "    list_Nombre2.append( str_Cambio(list_Nombre, i) )\n",
    "    \n",
    "print(\"Cambio :\", list_Nombre2)"
   ]
  }
 ],
 "metadata": {
  "kernelspec": {
   "display_name": "Python 3",
   "language": "python",
   "name": "python3"
  },
  "language_info": {
   "codemirror_mode": {
    "name": "ipython",
    "version": 3
   },
   "file_extension": ".py",
   "mimetype": "text/x-python",
   "name": "python",
   "nbconvert_exporter": "python",
   "pygments_lexer": "ipython3",
   "version": "3.8.3"
  }
 },
 "nbformat": 4,
 "nbformat_minor": 4
}
