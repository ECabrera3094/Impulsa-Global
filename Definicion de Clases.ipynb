{
 "cells": [
  {
   "cell_type": "markdown",
   "metadata": {},
   "source": [
    "# Clases"
   ]
  },
  {
   "cell_type": "markdown",
   "metadata": {},
   "source": [
    "Para crear un Objeto que nunca ha sido creado antes, primero se debe definir una **Clase** que indique *qué* contiene dicho Objeto. Imaginemos un Objeto como una caja y a la Clase como el *molde* para hacer esta misma caja. Para crear nuestro objeto personalizado en Python, primero es necesario definir una Clase con la palabra reservada *class*:"
   ]
  },
  {
   "cell_type": "code",
   "execution_count": 3,
   "metadata": {},
   "outputs": [],
   "source": [
    "class Cat():\n",
    "    pass"
   ]
  },
  {
   "cell_type": "markdown",
   "metadata": {},
   "source": [
    "Para crear al Objeto de la Clase, simplemente se llama a la Clase por su nombre como si fuese una Función: "
   ]
  },
  {
   "cell_type": "code",
   "execution_count": 4,
   "metadata": {},
   "outputs": [],
   "source": [
    "my_cat = Cat()\n",
    "my_cat_2 = Cat()"
   ]
  },
  {
   "cell_type": "markdown",
   "metadata": {},
   "source": [
    "En este sencillo ejemplo, la llamada a la Clase *Cat()* crea dos Objetos individuales, designados como *my_cat* y *my_cat_2*. A este proceso se le conoce formalmente como **Instanciación de Clase** donde el Objeto de Clase es una Función sin parámetros que retorna una nueva instancia de la clase."
   ]
  }
 ],
 "metadata": {
  "kernelspec": {
   "display_name": "Python 3",
   "language": "python",
   "name": "python3"
  },
  "language_info": {
   "codemirror_mode": {
    "name": "ipython",
    "version": 3
   },
   "file_extension": ".py",
   "mimetype": "text/x-python",
   "name": "python",
   "nbconvert_exporter": "python",
   "pygments_lexer": "ipython3",
   "version": "3.8.3"
  }
 },
 "nbformat": 4,
 "nbformat_minor": 4
}
