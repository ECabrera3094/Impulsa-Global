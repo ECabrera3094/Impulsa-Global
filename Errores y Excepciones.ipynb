{
 "cells": [
  {
   "cell_type": "markdown",
   "metadata": {},
   "source": [
    "# Errores y Excepciones"
   ]
  },
  {
   "cell_type": "markdown",
   "metadata": {},
   "source": [
    "En Python hay (al menos) dos clases de errores que frecuentemente se presentan: *errores de sintaxis* y *excepciones*. "
   ]
  },
  {
   "cell_type": "markdown",
   "metadata": {},
   "source": [
    "# Errores de Sintaxis"
   ]
  },
  {
   "cell_type": "markdown",
   "metadata": {},
   "source": [
    "También conocidos como **Errores de Interpretación**, son la problemática más común que se presenta cuando se está aprendiendo a programar en Python (o cualquier otro Lenguaje de programación)."
   ]
  },
  {
   "cell_type": "code",
   "execution_count": 2,
   "metadata": {},
   "outputs": [
    {
     "ename": "SyntaxError",
     "evalue": "Missing parentheses in call to 'print'. Did you mean print(\"Hola\")? (<ipython-input-2-dc93d40ed97c>, line 1)",
     "output_type": "error",
     "traceback": [
      "\u001b[0;36m  File \u001b[0;32m\"<ipython-input-2-dc93d40ed97c>\"\u001b[0;36m, line \u001b[0;32m1\u001b[0m\n\u001b[0;31m    print \"Hola\"\u001b[0m\n\u001b[0m          ^\u001b[0m\n\u001b[0;31mSyntaxError\u001b[0m\u001b[0;31m:\u001b[0m Missing parentheses in call to 'print'. Did you mean print(\"Hola\")?\n"
     ]
    }
   ],
   "source": [
    "print \"Hola\""
   ]
  },
  {
   "cell_type": "markdown",
   "metadata": {},
   "source": [
    "Cuando un **Error de Sintaxis** ocurre, el intérprete de Python muestra el nombre del archivo, el número de línea donde ocurrió el error, replica el código afectado y con un indicador **(^)** señala en dónde se detectó la falla. En nuestro ejemplo, el indicador detecta el error en la sentencia que *precede* al **print** dado que Python 3 requiere, durante la llamada a la impresión, forzosamente un par de paréntesis y nuestro ejemplo los omite. "
   ]
  },
  {
   "cell_type": "markdown",
   "metadata": {},
   "source": [
    "# Excepciones"
   ]
  },
  {
   "cell_type": "markdown",
   "metadata": {},
   "source": [
    "Las **Excepciones** son errores que existen gracias a que, si bien la senetencia o expresión es sintáctimante correcta, puede generar un error cuando se ejecuta. Un ejemplo básico sería un número entero dividido entre *Cero*."
   ]
  },
  {
   "cell_type": "code",
   "execution_count": 4,
   "metadata": {},
   "outputs": [
    {
     "ename": "ZeroDivisionError",
     "evalue": "division by zero",
     "output_type": "error",
     "traceback": [
      "\u001b[0;31m---------------------------------------------------------------------------\u001b[0m",
      "\u001b[0;31mZeroDivisionError\u001b[0m                         Traceback (most recent call last)",
      "\u001b[0;32m<ipython-input-4-cd759d3fcf39>\u001b[0m in \u001b[0;36m<module>\u001b[0;34m\u001b[0m\n\u001b[0;32m----> 1\u001b[0;31m \u001b[0;36m10\u001b[0m \u001b[0;34m/\u001b[0m \u001b[0;36m0\u001b[0m\u001b[0;34m\u001b[0m\u001b[0;34m\u001b[0m\u001b[0m\n\u001b[0m",
      "\u001b[0;31mZeroDivisionError\u001b[0m: division by zero"
     ]
    }
   ],
   "source": [
    "10 / 0"
   ]
  },
  {
   "cell_type": "markdown",
   "metadata": {},
   "source": [
    "La senetencia por si misma es correcta dado que se ha implementado la sintaxis equivalente a la división en Python pero al ejecutarla, aparece la excepción **ZeroDivisionError** que se lanza cuando el divisor o módulo de una operación es *Cero*. Al igual que en los **Errores de Sintaxis**, el resto del mensaje provee detalle de dónde y qué causó la excepción."
   ]
  },
  {
   "cell_type": "markdown",
   "metadata": {},
   "source": [
    "Es aquí donde las buenas prácticas dictan que se debe tener un manejo de **Excepciones** en cualquier parte del código en donde se pudiesen presentar y permitirle al programador saber qué sucede en el flujo del código.  "
   ]
  },
  {
   "cell_type": "markdown",
   "metadata": {},
   "source": [
    "# Manejo de Excepciones"
   ]
  },
  {
   "cell_type": "markdown",
   "metadata": {},
   "source": [
    "El Manejo de Excepciones brinda la posibilidad de mostrar un *error personalizado* al programador en lugar de interrumpir de golpe la ejecución del código. Para esto implementaremos la sentencia **Try/Except**: "
   ]
  },
  {
   "cell_type": "code",
   "execution_count": 6,
   "metadata": {},
   "outputs": [
    {
     "name": "stdout",
     "output_type": "stream",
     "text": [
      "La Posicion 5 de la Lista no Existe.\n"
     ]
    }
   ],
   "source": [
    "myList = [1,2,3]\n",
    "position = 5\n",
    "\n",
    "try:\n",
    "    print(myList[position])\n",
    "except:\n",
    "    print(\"La Posicion {} de la Lista no Existe.\".format(position))"
   ]
  },
  {
   "cell_type": "markdown",
   "metadata": {},
   "source": [
    "La lógica es simple: el código dentro del bloque **Try** se ejecuta. Si algún error se llegara a presentar, se ingresa al bloque **Except** y se ejecuta. Si por el contrario jamás se presenta algún error, el bloque **Except** se omite  "
   ]
  },
  {
   "cell_type": "markdown",
   "metadata": {},
   "source": [
    "Especificar un **Except** sin argumentos, tal como lo hicimos en el ejmplo anterior, validará cualquier tipo de excepción con la que se encuentre. Si más de un tipo de excepción fuese a ocurrir, lo más recomendable sería proporcionar un **Manejo de Excepciones** por separado:"
   ]
  },
  {
   "cell_type": "code",
   "execution_count": 8,
   "metadata": {},
   "outputs": [
    {
     "name": "stdout",
     "output_type": "stream",
     "text": [
      "La Posicion 5 de la Lista no Existe.\n"
     ]
    }
   ],
   "source": [
    "myList = [1,2,3]\n",
    "position = 5\n",
    "\n",
    "try:\n",
    "    print(myList[position])\n",
    "except IndexError:\n",
    "    print(\"La Posicion {} de la Lista no Existe.\".format(position))\n",
    "except:\n",
    "    print(\"Algo salio mal. Favor de Verificar el Codigo.\")"
   ]
  },
  {
   "cell_type": "markdown",
   "metadata": {},
   "source": [
    "Aunque también se pueden agrupar varios **Manejos de Excepciones** en una sola declaración: "
   ]
  },
  {
   "cell_type": "code",
   "execution_count": 9,
   "metadata": {},
   "outputs": [],
   "source": [
    "# except (Built-in Exception #1. Built-in Exception #2 ... Built-in Exception #N)"
   ]
  },
  {
   "cell_type": "code",
   "execution_count": 10,
   "metadata": {},
   "outputs": [
    {
     "name": "stdout",
     "output_type": "stream",
     "text": [
      "La Posicion 5 de la Lista no Existe.\n"
     ]
    }
   ],
   "source": [
    "myList = [1,2,3]\n",
    "position = 5\n",
    "\n",
    "try:\n",
    "    print(myList[position])\n",
    "except (IndexError, ZeroDivisionError):\n",
    "    print(\"La Posicion {} de la Lista no Existe.\".format(position))\n",
    "except:\n",
    "    print(\"Algo salio mal. Favor de Verificar el Codigo.\")"
   ]
  },
  {
   "cell_type": "markdown",
   "metadata": {},
   "source": [
    "Y al igual que los Módulos, las Excepciones pueden ser llamadas con un *alias* y visualizarlo:"
   ]
  },
  {
   "cell_type": "code",
   "execution_count": 13,
   "metadata": {},
   "outputs": [
    {
     "name": "stdout",
     "output_type": "stream",
     "text": [
      "Es un Error de Tipo: list index out of range.\n"
     ]
    }
   ],
   "source": [
    "myList = [1,2,3]\n",
    "position = 5\n",
    "\n",
    "try:\n",
    "    print(myList[position])\n",
    "except (IndexError, ZeroDivisionError) as myError:\n",
    "    print(\"Es un Error de Tipo: {}.\".format(myError))\n",
    "except:\n",
    "    print(\"Algo salio mal. Favor de Verificar el Codigo.\")"
   ]
  },
  {
   "cell_type": "markdown",
   "metadata": {},
   "source": [
    "# Excepciones Integradas en Python"
   ]
  },
  {
   "cell_type": "markdown",
   "metadata": {},
   "source": [
    "A continuación se anexa una muestra de las **Excepciones Integradas** en Python como base:\n",
    "\n",
    "1. **Exception**: Base de todas las excepciones no existentes. \n",
    "\n",
    "2. **IOError**: Se ejecuta cuando una operación de E/S fracasa.\n",
    "\n",
    "3. **ImportError**: Se ejecuta cuando una sentencia import no encuentra la definición del módulo o cuando from ... import no encuentra un nombre a importar.\n",
    "\n",
    "4. **IndexError**: Se ejecuta cuando un sub-índice de una secuencia se sale del rango. \n",
    "\n",
    "5. **IndentationError**: Se ejecuta cuando una indentación incorrecta sucede. Deriva de la excepción SyntaxError.\n",
    "\n",
    "6. **KeyError**: Se ejecuta cuando no se encuentra una clave de una correspondencia (diccionario) en el conjunto de claves existentes. \n",
    "\n",
    "7. **NameError**: Ocurre cuando no se encuentra un nombre local o global en el código.\n",
    "\n",
    "8. **OverflowError**: Se ejecuta cuando el resultado de una operación aritmética es demasiado grande para representarse (desbordamiento). \n",
    "\n",
    "9. **SyntaxError**: Se ejecuta cuando el analizador encuentra un error en la sintaxis.\n",
    "\n",
    "10. **ZeroDivisionError**: Se ejecuta cuando el segundo argumento de una operación de división o módulo es cero. "
   ]
  }
 ],
 "metadata": {
  "kernelspec": {
   "display_name": "Python 3",
   "language": "python",
   "name": "python3"
  },
  "language_info": {
   "codemirror_mode": {
    "name": "ipython",
    "version": 3
   },
   "file_extension": ".py",
   "mimetype": "text/x-python",
   "name": "python",
   "nbconvert_exporter": "python",
   "pygments_lexer": "ipython3",
   "version": "3.8.3"
  }
 },
 "nbformat": 4,
 "nbformat_minor": 4
}
