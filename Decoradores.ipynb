{
 "cells": [
  {
   "cell_type": "markdown",
   "metadata": {},
   "source": [
    "# Decoradores"
   ]
  },
  {
   "cell_type": "markdown",
   "metadata": {},
   "source": [
    "Existen algunos momentos en donde se busca modificar una Función ya declarada de forma dinámica sin modificar el código original explícitamente. Un Decorador, como un patrón de Software, es una Función que toma una Función como entrada y retorna otra Función. Tomemos como ejemplo el siguiente código:"
   ]
  },
  {
   "cell_type": "code",
   "execution_count": 6,
   "metadata": {},
   "outputs": [
    {
     "name": "stdout",
     "output_type": "stream",
     "text": [
      "Accion #1.\n",
      "Hola Mundo.\n",
      "Accion #2.\n"
     ]
    }
   ],
   "source": [
    "def MiDecorador(mensaje):\n",
    "    def complemento():\n",
    "        print(\"Accion #1.\")\n",
    "        mensaje()\n",
    "        print(\"Accion #2.\")\n",
    "    return complemento\n",
    "\n",
    "@MiDecorador\n",
    "def mensaje():\n",
    "    print(\"Hola Mundo.\")\n",
    "\n",
    "mensaje()"
   ]
  },
  {
   "cell_type": "markdown",
   "metadata": {},
   "source": [
    "Lo que debemos denotar primero es que la Función Decorada es **def mensaje()** con el Decorador **@MiDecorador**. Cuando creamos la Función Decorador, ésta debe recibir expresamente el mismo nombre que el Decorador; es por éso que se denota como **def MiDecorador()** y como parámetro admite la Función Decorada *(mensaje)*."
   ]
  },
  {
   "cell_type": "markdown",
   "metadata": {},
   "source": [
    "Al interior de la Función Decorador se encuentra formalmente la Función **def complemento()** que se encargará del proceso dinámico de modificación y que al final será retornada. Al interior de ésta se pueden ejecutar un sin fin de acciones que se representan con los mensajes *Acción #1 y Acción #2* sin olvidar el punto principal que es también obtener el contenido de la Función Decorada **def mensaje()**. "
   ]
  },
  {
   "cell_type": "markdown",
   "metadata": {},
   "source": [
    "Cuando todo este proceso sea llevado acabo, la Función Decorador **def MiDecorador(mensaje)** hará el retorno de todo lo que se haya ejecutado en la Función **def complemento()**. Para visualizar el proceso completo simplemente se llama a la Función Decorada."
   ]
  }
 ],
 "metadata": {
  "kernelspec": {
   "display_name": "Python 3",
   "language": "python",
   "name": "python3"
  },
  "language_info": {
   "codemirror_mode": {
    "name": "ipython",
    "version": 3
   },
   "file_extension": ".py",
   "mimetype": "text/x-python",
   "name": "python",
   "nbconvert_exporter": "python",
   "pygments_lexer": "ipython3",
   "version": "3.8.3"
  }
 },
 "nbformat": 4,
 "nbformat_minor": 4
}
