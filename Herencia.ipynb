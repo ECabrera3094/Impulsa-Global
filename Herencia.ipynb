{
 "cells": [
  {
   "cell_type": "markdown",
   "metadata": {},
   "source": [
    "# Herencia"
   ]
  },
  {
   "cell_type": "markdown",
   "metadata": {},
   "source": [
    "Al igual que un hijo adquiere ciertos rasgos y cualidades parecidas a los de sus padres, la **Herencia** en la programación funciona del mismo modo. Es la capacidad de una Clase *'Hija'* de obtener/*heredar* las propiedades de alguna otra Clase *'Padre'*. \n",
    "La finalidad de esto es simple, ya que si se tiene una Clase *A* (que por alguna razón es de vital importancia y no puede ser modificada), en lugar de crear una Clase *B* copiando y pegando lo escencial de *A*; únicamente *reusamos* de una mejor manera el código existente, evitando así más y más líneas de código además del extenuante mantenimiento de 2 archivos iguales y ubicados en partes completamente diferentes."
   ]
  },
  {
   "cell_type": "markdown",
   "metadata": {},
   "source": [
    "# Herencia Simple"
   ]
  },
  {
   "cell_type": "markdown",
   "metadata": {},
   "source": [
    "Para la **Herencia Simple** se define qué se quiere añadir o cambiar en la nueva Clase, y se ignora por completo el comportamiento de la vieja Clase. La *Clase Original* es llamada **Padre**, **SuperClase** o **Clase Base**; la *Nueva Clase* será llamada **Hija**, **SubClase** o **Clase Derivada**.\n",
    "Para ejemplificar lo anterior crearemos una *Clase Padre* y una *Clase Hija*. Para definir la **Herencia**, la *Clase Hija* recibe únicamente como parámetro a la *Clase Padre* y ésta ya puede trabajar con los **Atributos** y **Métodos** de la *Clase Padre*:"
   ]
  },
  {
   "cell_type": "code",
   "execution_count": 12,
   "metadata": {},
   "outputs": [
    {
     "name": "stdout",
     "output_type": "stream",
     "text": [
      "Motor:  Rum Rum!\n",
      "Modelo BMW\n",
      "Motor:  Rum Rum!\n",
      "Modelo BMW\n"
     ]
    }
   ],
   "source": [
    "class Car():\n",
    "    \n",
    "    brand = \"BMW\"\n",
    "    \n",
    "    @staticmethod\n",
    "    def motor():\n",
    "        return \"Rum Rum!\"\n",
    "        \n",
    "class Motorcycle(Car):\n",
    "    pass\n",
    "\n",
    "m = Motorcycle()\n",
    "print(\"Motor: \", m.motor())\n",
    "print(\"Modelo\", m.brand)\n",
    "\n",
    "c = Car()\n",
    "print(\"Motor: \", m.motor())\n",
    "print(\"Modelo\", m.brand)"
   ]
  },
  {
   "cell_type": "markdown",
   "metadata": {},
   "source": [
    "Sin hacer nada especial, *'Motorcycle()'* heredó  tanto el Método *'motor()'* y el Atributo de Clase *'brand'* de *'Car()'*. De hecho, podría decirse a ciencia cierta que *'Motorcycle()'* es *'Car()'* pero si *'Motorcycle()'* agrega más Métodos o Atributos, éstos NO le pertenecen a *'Car()'* directamente."
   ]
  },
  {
   "cell_type": "markdown",
   "metadata": {},
   "source": [
    "# Función Super()"
   ]
  },
  {
   "cell_type": "markdown",
   "metadata": {},
   "source": [
    "En este punto hemos visto el cómo la *Clase Hija* comparte Métodos desde la *Clase Padre* pero ¿Qué pasa cuando queremos heredar la **Inicialización de Atributos**? Para simplificar esta tarea, se hace la llamada a la Función **Super()**:"
   ]
  },
  {
   "cell_type": "code",
   "execution_count": 11,
   "metadata": {},
   "outputs": [
    {
     "name": "stdout",
     "output_type": "stream",
     "text": [
      "Marca:  Cadillac\n",
      "Precio:  $2,000\n"
     ]
    }
   ],
   "source": [
    "class Car():\n",
    "    \n",
    "    def __init__(self, brand, motor):\n",
    "        self.brand = brand\n",
    "        self.motor = motor\n",
    "        \n",
    "        \n",
    "class Motorcycle(Car):\n",
    "    \n",
    "    def __init__(self, brand, motor, price):\n",
    "        super().__init__(brand, motor)\n",
    "        self.price = price\n",
    "\n",
    "c = Car('Cadillac', 'Rum Rum!')\n",
    "m = Motorcycle('BMW', 'Rum Rum!', '$2,000')\n",
    "print(\"Marca: \", c.brand)\n",
    "print(\"Precio: \", m.price)"
   ]
  },
  {
   "cell_type": "markdown",
   "metadata": {},
   "source": [
    "Si se define el Método __init()__ para la *Clase Hija*, en teoría se está reemplazando el Método __init()__ de la *Clase Padre* y este último no es llamado automáticamente:\n",
    "\n",
    "1. **Super()** obtiene la Inicialización de Atributos de la Clase *Car()*\n",
    "2. __init()__ llama al Método Car.__init__. \n",
    "Es de vital importancia tener cuidado con el orden en el que *self* y los parámetros son llamados en la **SuperClase**.\n",
    "3. *self.price = price* hace que *Motorcycle()* sea diferente a *Car()*.\n",
    "\n",
    "En la vida real, se implementa **Super** al igual que cuando un niño está haciendo algo a su manera pero aún así necesita de sus padres."
   ]
  },
  {
   "cell_type": "markdown",
   "metadata": {},
   "source": [
    "# Herencia Múltiple"
   ]
  },
  {
   "cell_type": "markdown",
   "metadata": {},
   "source": [
    "La **Herencia Múltiple** surge de la idea de que una *Clase Hija* posea dos *Clases Padres* o más, donde los Objetos pueden heredar de varias Clases principales. La idea es la misma que se ha visto ya que la *Clase Hija* recibe como parámetros, en orden jerárquico, a las *Clases Padres* y todo lo que posean:"
   ]
  },
  {
   "cell_type": "code",
   "execution_count": 26,
   "metadata": {},
   "outputs": [
    {
     "name": "stdout",
     "output_type": "stream",
     "text": [
      "Jerarquia:  [<class '__main__.Scooter'>, <class '__main__.Motorcycle'>, <class '__main__.Car'>, <class 'object'>]\n",
      "Motor:  Rum Rum!\n"
     ]
    }
   ],
   "source": [
    "class Car():\n",
    "\n",
    "    def motor(self):\n",
    "        return 'Rum Rum!'\n",
    "        \n",
    "class Motorcycle(Car):\n",
    "    \n",
    "    def price(self):\n",
    "        return '$2,000'\n",
    "    \n",
    "class Scooter(Motorcycle, Car):\n",
    "    \n",
    "    def brand(self):\n",
    "        return 'Electric Scooter'\n",
    "    \n",
    "\n",
    "\n",
    "print(\"Jerarquia: \", Scooter.mro())\n",
    "\n",
    "s = Scooter()\n",
    "print(\"Motor: \", s.motor())"
   ]
  },
  {
   "cell_type": "markdown",
   "metadata": {},
   "source": [
    "Python tiene un Método llamado *mro* del inglés **Method Resolution Order** que regresa una Lista de las Clases, en orden jerárquico, que serán visitadas para encontrar el Atributo o Método requerido por el Objeto que Instancia la Clase.\n",
    "al final, el Objeto *'s'* de la Clase *Scooter()* puede llamar al Método *motor()* heredado de una de sus *Clases Padre*, en este caso *Car()*."
   ]
  }
 ],
 "metadata": {
  "kernelspec": {
   "display_name": "Python 3",
   "language": "python",
   "name": "python3"
  },
  "language_info": {
   "codemirror_mode": {
    "name": "ipython",
    "version": 3
   },
   "file_extension": ".py",
   "mimetype": "text/x-python",
   "name": "python",
   "nbconvert_exporter": "python",
   "pygments_lexer": "ipython3",
   "version": "3.8.3"
  }
 },
 "nbformat": 4,
 "nbformat_minor": 4
}
