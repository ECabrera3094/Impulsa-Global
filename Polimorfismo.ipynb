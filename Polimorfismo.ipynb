{
 "cells": [
  {
   "cell_type": "markdown",
   "metadata": {},
   "source": [
    "# Polimorfismo"
   ]
  },
  {
   "cell_type": "markdown",
   "metadata": {},
   "source": [
    "Conformada de dos raíces griegas: *poli* que significa *'mucho'*, y *morfo* que significa *'forma'*; el **Polimorfismo** en Python es algo que se hace de modo inconciente y por ende casi nunca se le llama por su nombre. el **Polimorfismo** es la capacidad que tienen los Objetos, de diferentes Clases, para usar **Métodos** o **Atributos** del mismo nombre (pero con diferentes parámetros) y obtener resultados completamente diferentes según la Clase.\n",
    "\n",
    "El **Polimorfismo** en Python esta estrictamente relacionado al concepto de **Herencia** ya que **TODOS** los **Métodos de Instancia** son *polimórficos* y se pueden alterar temporalmente medicante **SubClases** o también conocidas como *Clases Hijas*. \n",
    "\n",
    "Todo esto pensado con el fin de tener código más organizado y fomentando en el programador *buenas prácticas* al momento de trabajar con muchos Objetos y Métodos; así evitando el tener nombres variados y mucho código al que sería complicado darle mantenimiento. Veamos un ejemplo en donde se utiliza la lógica del **Polimorfismo** que es *mismo nombre de Método en diferentes Clases y Objetos\"* :"
   ]
  },
  {
   "cell_type": "code",
   "execution_count": 27,
   "metadata": {},
   "outputs": [
    {
     "name": "stdout",
     "output_type": "stream",
     "text": [
      "Sonido:  Rom Rom!\n",
      "Sonido:  Rum Rum!\n"
     ]
    }
   ],
   "source": [
    "class Car():\n",
    "\n",
    "    def sound(self):\n",
    "        return 'Rom Rom!'\n",
    "        \n",
    "class Motorcycle(Car):\n",
    "    \n",
    "    def sound(self):\n",
    "        return 'Rum Rum!'\n",
    "\n",
    "c = Car()\n",
    "print(\"Sonido: \", c.sound())\n",
    "    \n",
    "    \n",
    "m = Motorcycle()\n",
    "print(\"Sonido: \", m.sound())"
   ]
  },
  {
   "cell_type": "markdown",
   "metadata": {},
   "source": [
    "# Sobrecarga de un Método"
   ]
  },
  {
   "cell_type": "markdown",
   "metadata": {},
   "source": [
    "Del inglés **Overloading Methods**, la *Sobrecarga de Métodos* en Python como tal **NO EXISTE** en comparación de otros Lenguajes de Programación tales como **Java** donde es algo común. Pensar en *Sobrecarga* en Python algunas veces resulta contraproducente pero podemos **emular** un comportamiento así.   \n",
    "\n",
    "Dicho de otro modo, **NO** se pueden tener dos Métodos con el mismo nombre y misma/diferente cantidad de argumentos de entrada en una **Clase**; y tampoco lo necesita en un Lenguaje de Programación como Python. Veamos un ejemplo:"
   ]
  },
  {
   "cell_type": "code",
   "execution_count": 47,
   "metadata": {},
   "outputs": [
    {
     "name": "stdout",
     "output_type": "stream",
     "text": [
      "Precio:  $1,000 USD\n"
     ]
    },
    {
     "ename": "TypeError",
     "evalue": "price() missing 1 required positional argument: 'money'",
     "output_type": "error",
     "traceback": [
      "\u001b[0;31m---------------------------------------------------------------------------\u001b[0m",
      "\u001b[0;31mTypeError\u001b[0m                                 Traceback (most recent call last)",
      "\u001b[0;32m<ipython-input-47-9305818cc923>\u001b[0m in \u001b[0;36m<module>\u001b[0;34m\u001b[0m\n\u001b[1;32m     14\u001b[0m \u001b[0mm\u001b[0m \u001b[0;34m=\u001b[0m \u001b[0mMotorcycle\u001b[0m\u001b[0;34m(\u001b[0m\u001b[0;34m)\u001b[0m\u001b[0;34m\u001b[0m\u001b[0;34m\u001b[0m\u001b[0m\n\u001b[1;32m     15\u001b[0m \u001b[0mprint\u001b[0m\u001b[0;34m(\u001b[0m\u001b[0;34m\"Precio: \"\u001b[0m\u001b[0;34m,\u001b[0m \u001b[0mm\u001b[0m\u001b[0;34m.\u001b[0m\u001b[0mprice\u001b[0m\u001b[0;34m(\u001b[0m\u001b[0;34m' USD'\u001b[0m\u001b[0;34m)\u001b[0m\u001b[0;34m)\u001b[0m\u001b[0;34m\u001b[0m\u001b[0;34m\u001b[0m\u001b[0m\n\u001b[0;32m---> 16\u001b[0;31m \u001b[0mprint\u001b[0m\u001b[0;34m(\u001b[0m\u001b[0;34m\"Precio: \"\u001b[0m\u001b[0;34m,\u001b[0m \u001b[0mm\u001b[0m\u001b[0;34m.\u001b[0m\u001b[0mprice\u001b[0m\u001b[0;34m(\u001b[0m\u001b[0;34m)\u001b[0m\u001b[0;34m)\u001b[0m\u001b[0;34m\u001b[0m\u001b[0;34m\u001b[0m\u001b[0m\n\u001b[0m",
      "\u001b[0;31mTypeError\u001b[0m: price() missing 1 required positional argument: 'money'"
     ]
    }
   ],
   "source": [
    "class Car():\n",
    "\n",
    "    def price(self):\n",
    "        return '$60,000'\n",
    "        \n",
    "class Motorcycle(Car):\n",
    "    \n",
    "    def price(self):\n",
    "        return '$2000'\n",
    "    \n",
    "    def price(self, money):\n",
    "        return '$1,000' + str(money)\n",
    "\n",
    "m = Motorcycle()\n",
    "print(\"Precio: \", m.price(' USD'))\n",
    "print(\"Precio: \", m.price())"
   ]
  },
  {
   "cell_type": "markdown",
   "metadata": {},
   "source": [
    "Como se puede observar, el Método *'price()'* dentro de la Clase *'Motorcycle()'* espera siempre el ingreso de un argumento aún existiendo un Método *'price()'* que no recibe nada. Si bien Python no lo soporta, se puede **emular**. Veamos un ejemplo:  "
   ]
  },
  {
   "cell_type": "code",
   "execution_count": 55,
   "metadata": {},
   "outputs": [
    {
     "name": "stdout",
     "output_type": "stream",
     "text": [
      "Precio:  $2,000 USD\n",
      "Precio:  $1,000 MXN\n"
     ]
    }
   ],
   "source": [
    "class Car():\n",
    "\n",
    "    def price(self):\n",
    "        return '$60,000'\n",
    "        \n",
    "class Motorcycle(Car):\n",
    "\n",
    "    def price(self, money = None):\n",
    "        \n",
    "        if money is None:\n",
    "            return '$1,000 MXN'\n",
    "        else:\n",
    "            return '$2,000 ' + str(money)\n",
    "\n",
    "m = Motorcycle()\n",
    "print(\"Precio: \", m.price('USD'))\n",
    "print(\"Precio: \", m.price())"
   ]
  },
  {
   "cell_type": "markdown",
   "metadata": {},
   "source": [
    "Únicamente se emula un argumento con un valor **None**, del inglés *Nulo*. Si se llega a llamar al Método *'price()'* podemos definir (o no) un valores con el que se desea trabajar y lograr así dos flujos de trabajo. Si por algun motivo externo se lograse borrar o comentar los Métodos *'price()'* de la *Clase Hija* y se ejecuta de nueva cuenta el código, el método será llamado directamente desde la *Clase Padre* o sea *Car()*."
   ]
  }
 ],
 "metadata": {
  "kernelspec": {
   "display_name": "Python 3",
   "language": "python",
   "name": "python3"
  },
  "language_info": {
   "codemirror_mode": {
    "name": "ipython",
    "version": 3
   },
   "file_extension": ".py",
   "mimetype": "text/x-python",
   "name": "python",
   "nbconvert_exporter": "python",
   "pygments_lexer": "ipython3",
   "version": "3.8.3"
  }
 },
 "nbformat": 4,
 "nbformat_minor": 4
}
